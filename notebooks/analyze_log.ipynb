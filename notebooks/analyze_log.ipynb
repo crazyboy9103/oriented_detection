{
 "cells": [
  {
   "cell_type": "code",
   "execution_count": 62,
   "metadata": {},
   "outputs": [],
   "source": [
    "import re\n",
    "from pprint import pprint\n",
    "\n",
    "with open(\"/workspace/fit-perf_logs.txt\", \"r\") as f:\n",
    "    log_text = \"\".join(f.readlines())\n",
    "# Sample log text\n",
    "# Function to parse a single block\n",
    "def parse_block(block_text):\n",
    "    profile_info = {}\n",
    "    \n",
    "    # First line: Profile stats for: [LightningModule]OrientedRCNN.configure_callbacks\n",
    "    match = re.search(r\"Profile stats for: (.+)\", block_text)\n",
    "    if match:\n",
    "        profile_info['profile_for'] = match.group(1)\n",
    "        \n",
    "    # Second line: 7 function calls in 0.000 seconds\n",
    "    match = re.search(r\"(\\d+) function calls in ([\\d.]+) seconds\", block_text)\n",
    "    if match:\n",
    "        profile_info['function_calls'] = int(match.group(1))\n",
    "        profile_info['total_time'] = float(match.group(2))\n",
    "        \n",
    "    # Table parsing\n",
    "    table_lines = re.findall(r\"\\d+\\s+[\\d.]+\\s+[\\d.]+\\s+[\\d.]+\\s+[\\d.]+\\s+.+\", block_text)\n",
    "    function_list = []\n",
    "    for line in table_lines:\n",
    "        elements = re.split(r\"\\s+\", line.strip())\n",
    "        function_info = {\n",
    "            'ncalls': int(elements[0]),\n",
    "            'tottime': float(elements[1]),\n",
    "            'percall_1': float(elements[2]),\n",
    "            'cumtime': float(elements[3]),\n",
    "            'percall_2': float(elements[4]),\n",
    "            'filename_function': ' '.join(elements[5:])\n",
    "        }\n",
    "        function_list.append(function_info)\n",
    "    profile_info['functions'] = function_list\n",
    "    \n",
    "    return profile_info\n",
    "\n",
    "# Function to parse the whole log file\n",
    "def parse_log(log_text):\n",
    "    # Split the log text into blocks based on the \"Profile stats for:\" line\n",
    "    blocks = re.split(r\"(Profile stats for: .+)\", log_text)[1:]\n",
    "    parsed_blocks = []\n",
    "    for i in range(0, len(blocks), 2):\n",
    "        block_text = blocks[i] + blocks[i + 1]\n",
    "        parsed_block = parse_block(block_text)\n",
    "        parsed_blocks.append(parsed_block)\n",
    "    return parsed_blocks\n",
    "\n",
    "# Test the function\n",
    "parsed_log = parse_log(log_text)\n"
   ]
  },
  {
   "cell_type": "code",
   "execution_count": 63,
   "metadata": {},
   "outputs": [],
   "source": [
    "sorted_parsed_log = sorted(parsed_log, key=lambda x: sum(y['cumtime'] for y in x['functions']), reverse=True)"
   ]
  },
  {
   "cell_type": "code",
   "execution_count": 64,
   "metadata": {},
   "outputs": [],
   "source": [
    "temp = {}\n",
    "for row in sorted_parsed_log:\n",
    "    if len(temp) < 20:\n",
    "        temp[row['profile_for']] = temp.get(row['profile_for'], 0) + sum(y['cumtime'] for y in row['functions'])\n",
    "    else:\n",
    "        break"
   ]
  },
  {
   "cell_type": "code",
   "execution_count": 65,
   "metadata": {},
   "outputs": [],
   "source": [
    "temp = sorted(temp.items(), key=lambda x: x[1], reverse=True)"
   ]
  },
  {
   "cell_type": "code",
   "execution_count": 66,
   "metadata": {},
   "outputs": [
    {
     "data": {
      "text/plain": [
       "[('[LightningModule]OrientedRCNN.optimizer_step', 1983282.7829999987),\n",
       " ('run_training_epoch', 1719111.251000001),\n",
       " ('[Strategy]SingleDeviceStrategy.training_step', 1003381.9020000006),\n",
       " ('run_training_batch', 980564.062),\n",
       " ('[Strategy]SingleDeviceStrategy.validation_step', 493627.24700000207),\n",
       " ('[LightningModule]RotatedFasterRCNN.optimizer_step', 344409.42800000013),\n",
       " ('[_TrainingEpochLoop].train_dataloader_next', 274895.0989999998),\n",
       " ('[Strategy]SingleDeviceStrategy.backward', 141576.745),\n",
       " ('[_EvaluationLoop].val_next', 133223.91799999995),\n",
       " ('[Strategy]SingleDeviceStrategy.batch_to_device', 69462.73999999995),\n",
       " ('[LightningModule]OrientedRCNN.configure_gradient_clipping',\n",
       "  43989.782000000014),\n",
       " ('[LightningModule]OrientedRCNN.on_validation_epoch_end', 26057.001000000026),\n",
       " ('[LightningModule]OrientedRCNN.transfer_batch_to_device',\n",
       "  15016.253000000002),\n",
       " (\"[Callback]ModelCheckpoint{'monitor': None, 'mode': 'min', 'every_n_train_steps': 0, 'every_n_epochs': 1, 'train_time_interval': None}.on_train_epoch_end\",\n",
       "  14857.30099999998),\n",
       " ('[LightningModule]RotatedFasterRCNN.configure_gradient_clipping',\n",
       "  13448.57299999999),\n",
       " ('[LightningModule]RotatedFasterRCNN.transfer_batch_to_device',\n",
       "  11915.101000000002),\n",
       " ('[Callback]TQDMProgressBar.on_train_batch_end', 682.2369999999999),\n",
       " ('[LightningModule]RotatedFasterRCNN.on_validation_epoch_end',\n",
       "  375.92399999999856),\n",
       " ('[LightningDataModule]DotaDataModule.setup', 178.12600000000003),\n",
       " (\"[Callback]ModelCheckpoint{'monitor': 'valid-mAP', 'mode': 'min', 'every_n_train_steps': 0, 'every_n_epochs': 1, 'train_time_interval': None}.on_train_epoch_end\",\n",
       "  156.50200000000018)]"
      ]
     },
     "execution_count": 66,
     "metadata": {},
     "output_type": "execute_result"
    }
   ],
   "source": [
    "temp"
   ]
  },
  {
   "cell_type": "code",
   "execution_count": null,
   "metadata": {},
   "outputs": [],
   "source": []
  }
 ],
 "metadata": {
  "kernelspec": {
   "display_name": "Python 3",
   "language": "python",
   "name": "python3"
  },
  "language_info": {
   "codemirror_mode": {
    "name": "ipython",
    "version": 3
   },
   "file_extension": ".py",
   "mimetype": "text/x-python",
   "name": "python",
   "nbconvert_exporter": "python",
   "pygments_lexer": "ipython3",
   "version": "3.10.13"
  },
  "orig_nbformat": 4
 },
 "nbformat": 4,
 "nbformat_minor": 2
}

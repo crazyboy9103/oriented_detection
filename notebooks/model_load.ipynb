{
 "cells": [
  {
   "cell_type": "code",
   "execution_count": 1,
   "metadata": {},
   "outputs": [],
   "source": [
    "model_state_dict=['backbone.body.conv1.weight', 'backbone.body.bn1.weight', 'backbone.body.bn1.bias', 'backbone.body.bn1.running_mean', 'backbone.body.bn1.running_var', 'backbone.body.bn1.num_batches_tracked', 'backbone.body.layer1.0.conv1.weight', 'backbone.body.layer1.0.bn1.weight', 'backbone.body.layer1.0.bn1.bias', 'backbone.body.layer1.0.bn1.running_mean', 'backbone.body.layer1.0.bn1.running_var', 'backbone.body.layer1.0.bn1.num_batches_tracked', 'backbone.body.layer1.0.conv2.weight', 'backbone.body.layer1.0.bn2.weight', 'backbone.body.layer1.0.bn2.bias', 'backbone.body.layer1.0.bn2.running_mean', 'backbone.body.layer1.0.bn2.running_var', 'backbone.body.layer1.0.bn2.num_batches_tracked', 'backbone.body.layer1.0.conv3.weight', 'backbone.body.layer1.0.bn3.weight', 'backbone.body.layer1.0.bn3.bias', 'backbone.body.layer1.0.bn3.running_mean', 'backbone.body.layer1.0.bn3.running_var', 'backbone.body.layer1.0.bn3.num_batches_tracked', 'backbone.body.layer1.0.downsample.0.weight', 'backbone.body.layer1.0.downsample.1.weight', 'backbone.body.layer1.0.downsample.1.bias', 'backbone.body.layer1.0.downsample.1.running_mean', 'backbone.body.layer1.0.downsample.1.running_var', 'backbone.body.layer1.0.downsample.1.num_batches_tracked', 'backbone.body.layer1.1.conv1.weight', 'backbone.body.layer1.1.bn1.weight', 'backbone.body.layer1.1.bn1.bias', 'backbone.body.layer1.1.bn1.running_mean', 'backbone.body.layer1.1.bn1.running_var', 'backbone.body.layer1.1.bn1.num_batches_tracked', 'backbone.body.layer1.1.conv2.weight', 'backbone.body.layer1.1.bn2.weight', 'backbone.body.layer1.1.bn2.bias', 'backbone.body.layer1.1.bn2.running_mean', 'backbone.body.layer1.1.bn2.running_var', 'backbone.body.layer1.1.bn2.num_batches_tracked', 'backbone.body.layer1.1.conv3.weight', 'backbone.body.layer1.1.bn3.weight', 'backbone.body.layer1.1.bn3.bias', 'backbone.body.layer1.1.bn3.running_mean', 'backbone.body.layer1.1.bn3.running_var', 'backbone.body.layer1.1.bn3.num_batches_tracked', 'backbone.body.layer1.2.conv1.weight', 'backbone.body.layer1.2.bn1.weight', 'backbone.body.layer1.2.bn1.bias', 'backbone.body.layer1.2.bn1.running_mean', 'backbone.body.layer1.2.bn1.running_var', 'backbone.body.layer1.2.bn1.num_batches_tracked', 'backbone.body.layer1.2.conv2.weight', 'backbone.body.layer1.2.bn2.weight', 'backbone.body.layer1.2.bn2.bias', 'backbone.body.layer1.2.bn2.running_mean', 'backbone.body.layer1.2.bn2.running_var', 'backbone.body.layer1.2.bn2.num_batches_tracked', 'backbone.body.layer1.2.conv3.weight', 'backbone.body.layer1.2.bn3.weight', 'backbone.body.layer1.2.bn3.bias', 'backbone.body.layer1.2.bn3.running_mean', 'backbone.body.layer1.2.bn3.running_var', 'backbone.body.layer1.2.bn3.num_batches_tracked', 'backbone.body.layer2.0.conv1.weight', 'backbone.body.layer2.0.bn1.weight', 'backbone.body.layer2.0.bn1.bias', 'backbone.body.layer2.0.bn1.running_mean', 'backbone.body.layer2.0.bn1.running_var', 'backbone.body.layer2.0.bn1.num_batches_tracked', 'backbone.body.layer2.0.conv2.weight', 'backbone.body.layer2.0.bn2.weight', 'backbone.body.layer2.0.bn2.bias', 'backbone.body.layer2.0.bn2.running_mean', 'backbone.body.layer2.0.bn2.running_var', 'backbone.body.layer2.0.bn2.num_batches_tracked', 'backbone.body.layer2.0.conv3.weight', 'backbone.body.layer2.0.bn3.weight', 'backbone.body.layer2.0.bn3.bias', 'backbone.body.layer2.0.bn3.running_mean', 'backbone.body.layer2.0.bn3.running_var', 'backbone.body.layer2.0.bn3.num_batches_tracked', 'backbone.body.layer2.0.downsample.0.weight', 'backbone.body.layer2.0.downsample.1.weight', 'backbone.body.layer2.0.downsample.1.bias', 'backbone.body.layer2.0.downsample.1.running_mean', 'backbone.body.layer2.0.downsample.1.running_var', 'backbone.body.layer2.0.downsample.1.num_batches_tracked', 'backbone.body.layer2.1.conv1.weight', 'backbone.body.layer2.1.bn1.weight', 'backbone.body.layer2.1.bn1.bias', 'backbone.body.layer2.1.bn1.running_mean', 'backbone.body.layer2.1.bn1.running_var', 'backbone.body.layer2.1.bn1.num_batches_tracked', 'backbone.body.layer2.1.conv2.weight', 'backbone.body.layer2.1.bn2.weight', 'backbone.body.layer2.1.bn2.bias', 'backbone.body.layer2.1.bn2.running_mean', 'backbone.body.layer2.1.bn2.running_var', 'backbone.body.layer2.1.bn2.num_batches_tracked', 'backbone.body.layer2.1.conv3.weight', 'backbone.body.layer2.1.bn3.weight', 'backbone.body.layer2.1.bn3.bias', 'backbone.body.layer2.1.bn3.running_mean', 'backbone.body.layer2.1.bn3.running_var', 'backbone.body.layer2.1.bn3.num_batches_tracked', 'backbone.body.layer2.2.conv1.weight', 'backbone.body.layer2.2.bn1.weight', 'backbone.body.layer2.2.bn1.bias', 'backbone.body.layer2.2.bn1.running_mean', 'backbone.body.layer2.2.bn1.running_var', 'backbone.body.layer2.2.bn1.num_batches_tracked', 'backbone.body.layer2.2.conv2.weight', 'backbone.body.layer2.2.bn2.weight', 'backbone.body.layer2.2.bn2.bias', 'backbone.body.layer2.2.bn2.running_mean', 'backbone.body.layer2.2.bn2.running_var', 'backbone.body.layer2.2.bn2.num_batches_tracked', 'backbone.body.layer2.2.conv3.weight', 'backbone.body.layer2.2.bn3.weight', 'backbone.body.layer2.2.bn3.bias', 'backbone.body.layer2.2.bn3.running_mean', 'backbone.body.layer2.2.bn3.running_var', 'backbone.body.layer2.2.bn3.num_batches_tracked', 'backbone.body.layer2.3.conv1.weight', 'backbone.body.layer2.3.bn1.weight', 'backbone.body.layer2.3.bn1.bias', 'backbone.body.layer2.3.bn1.running_mean', 'backbone.body.layer2.3.bn1.running_var', 'backbone.body.layer2.3.bn1.num_batches_tracked', 'backbone.body.layer2.3.conv2.weight', 'backbone.body.layer2.3.bn2.weight', 'backbone.body.layer2.3.bn2.bias', 'backbone.body.layer2.3.bn2.running_mean', 'backbone.body.layer2.3.bn2.running_var', 'backbone.body.layer2.3.bn2.num_batches_tracked', 'backbone.body.layer2.3.conv3.weight', 'backbone.body.layer2.3.bn3.weight', 'backbone.body.layer2.3.bn3.bias', 'backbone.body.layer2.3.bn3.running_mean', 'backbone.body.layer2.3.bn3.running_var', 'backbone.body.layer2.3.bn3.num_batches_tracked', 'backbone.body.layer3.0.conv1.weight', 'backbone.body.layer3.0.bn1.weight', 'backbone.body.layer3.0.bn1.bias', 'backbone.body.layer3.0.bn1.running_mean', 'backbone.body.layer3.0.bn1.running_var', 'backbone.body.layer3.0.bn1.num_batches_tracked', 'backbone.body.layer3.0.conv2.weight', 'backbone.body.layer3.0.bn2.weight', 'backbone.body.layer3.0.bn2.bias', 'backbone.body.layer3.0.bn2.running_mean', 'backbone.body.layer3.0.bn2.running_var', 'backbone.body.layer3.0.bn2.num_batches_tracked', 'backbone.body.layer3.0.conv3.weight', 'backbone.body.layer3.0.bn3.weight', 'backbone.body.layer3.0.bn3.bias', 'backbone.body.layer3.0.bn3.running_mean', 'backbone.body.layer3.0.bn3.running_var', 'backbone.body.layer3.0.bn3.num_batches_tracked', 'backbone.body.layer3.0.downsample.0.weight', 'backbone.body.layer3.0.downsample.1.weight', 'backbone.body.layer3.0.downsample.1.bias', 'backbone.body.layer3.0.downsample.1.running_mean', 'backbone.body.layer3.0.downsample.1.running_var', 'backbone.body.layer3.0.downsample.1.num_batches_tracked', 'backbone.body.layer3.1.conv1.weight', 'backbone.body.layer3.1.bn1.weight', 'backbone.body.layer3.1.bn1.bias', 'backbone.body.layer3.1.bn1.running_mean', 'backbone.body.layer3.1.bn1.running_var', 'backbone.body.layer3.1.bn1.num_batches_tracked', 'backbone.body.layer3.1.conv2.weight', 'backbone.body.layer3.1.bn2.weight', 'backbone.body.layer3.1.bn2.bias', 'backbone.body.layer3.1.bn2.running_mean', 'backbone.body.layer3.1.bn2.running_var', 'backbone.body.layer3.1.bn2.num_batches_tracked', 'backbone.body.layer3.1.conv3.weight', 'backbone.body.layer3.1.bn3.weight', 'backbone.body.layer3.1.bn3.bias', 'backbone.body.layer3.1.bn3.running_mean', 'backbone.body.layer3.1.bn3.running_var', 'backbone.body.layer3.1.bn3.num_batches_tracked', 'backbone.body.layer3.2.conv1.weight', 'backbone.body.layer3.2.bn1.weight', 'backbone.body.layer3.2.bn1.bias', 'backbone.body.layer3.2.bn1.running_mean', 'backbone.body.layer3.2.bn1.running_var', 'backbone.body.layer3.2.bn1.num_batches_tracked', 'backbone.body.layer3.2.conv2.weight', 'backbone.body.layer3.2.bn2.weight', 'backbone.body.layer3.2.bn2.bias', 'backbone.body.layer3.2.bn2.running_mean', 'backbone.body.layer3.2.bn2.running_var', 'backbone.body.layer3.2.bn2.num_batches_tracked', 'backbone.body.layer3.2.conv3.weight', 'backbone.body.layer3.2.bn3.weight', 'backbone.body.layer3.2.bn3.bias', 'backbone.body.layer3.2.bn3.running_mean', 'backbone.body.layer3.2.bn3.running_var', 'backbone.body.layer3.2.bn3.num_batches_tracked', 'backbone.body.layer3.3.conv1.weight', 'backbone.body.layer3.3.bn1.weight', 'backbone.body.layer3.3.bn1.bias', 'backbone.body.layer3.3.bn1.running_mean', 'backbone.body.layer3.3.bn1.running_var', 'backbone.body.layer3.3.bn1.num_batches_tracked', 'backbone.body.layer3.3.conv2.weight', 'backbone.body.layer3.3.bn2.weight', 'backbone.body.layer3.3.bn2.bias', 'backbone.body.layer3.3.bn2.running_mean', 'backbone.body.layer3.3.bn2.running_var', 'backbone.body.layer3.3.bn2.num_batches_tracked', 'backbone.body.layer3.3.conv3.weight', 'backbone.body.layer3.3.bn3.weight', 'backbone.body.layer3.3.bn3.bias', 'backbone.body.layer3.3.bn3.running_mean', 'backbone.body.layer3.3.bn3.running_var', 'backbone.body.layer3.3.bn3.num_batches_tracked', 'backbone.body.layer3.4.conv1.weight', 'backbone.body.layer3.4.bn1.weight', 'backbone.body.layer3.4.bn1.bias', 'backbone.body.layer3.4.bn1.running_mean', 'backbone.body.layer3.4.bn1.running_var', 'backbone.body.layer3.4.bn1.num_batches_tracked', 'backbone.body.layer3.4.conv2.weight', 'backbone.body.layer3.4.bn2.weight', 'backbone.body.layer3.4.bn2.bias', 'backbone.body.layer3.4.bn2.running_mean', 'backbone.body.layer3.4.bn2.running_var', 'backbone.body.layer3.4.bn2.num_batches_tracked', 'backbone.body.layer3.4.conv3.weight', 'backbone.body.layer3.4.bn3.weight', 'backbone.body.layer3.4.bn3.bias', 'backbone.body.layer3.4.bn3.running_mean', 'backbone.body.layer3.4.bn3.running_var', 'backbone.body.layer3.4.bn3.num_batches_tracked', 'backbone.body.layer3.5.conv1.weight', 'backbone.body.layer3.5.bn1.weight', 'backbone.body.layer3.5.bn1.bias', 'backbone.body.layer3.5.bn1.running_mean', 'backbone.body.layer3.5.bn1.running_var', 'backbone.body.layer3.5.bn1.num_batches_tracked', 'backbone.body.layer3.5.conv2.weight', 'backbone.body.layer3.5.bn2.weight', 'backbone.body.layer3.5.bn2.bias', 'backbone.body.layer3.5.bn2.running_mean', 'backbone.body.layer3.5.bn2.running_var', 'backbone.body.layer3.5.bn2.num_batches_tracked', 'backbone.body.layer3.5.conv3.weight', 'backbone.body.layer3.5.bn3.weight', 'backbone.body.layer3.5.bn3.bias', 'backbone.body.layer3.5.bn3.running_mean', 'backbone.body.layer3.5.bn3.running_var', 'backbone.body.layer3.5.bn3.num_batches_tracked', 'backbone.body.layer4.0.conv1.weight', 'backbone.body.layer4.0.bn1.weight', 'backbone.body.layer4.0.bn1.bias', 'backbone.body.layer4.0.bn1.running_mean', 'backbone.body.layer4.0.bn1.running_var', 'backbone.body.layer4.0.bn1.num_batches_tracked', 'backbone.body.layer4.0.conv2.weight', 'backbone.body.layer4.0.bn2.weight', 'backbone.body.layer4.0.bn2.bias', 'backbone.body.layer4.0.bn2.running_mean', 'backbone.body.layer4.0.bn2.running_var', 'backbone.body.layer4.0.bn2.num_batches_tracked', 'backbone.body.layer4.0.conv3.weight', 'backbone.body.layer4.0.bn3.weight', 'backbone.body.layer4.0.bn3.bias', 'backbone.body.layer4.0.bn3.running_mean', 'backbone.body.layer4.0.bn3.running_var', 'backbone.body.layer4.0.bn3.num_batches_tracked', 'backbone.body.layer4.0.downsample.0.weight', 'backbone.body.layer4.0.downsample.1.weight', 'backbone.body.layer4.0.downsample.1.bias', 'backbone.body.layer4.0.downsample.1.running_mean', 'backbone.body.layer4.0.downsample.1.running_var', 'backbone.body.layer4.0.downsample.1.num_batches_tracked', 'backbone.body.layer4.1.conv1.weight', 'backbone.body.layer4.1.bn1.weight', 'backbone.body.layer4.1.bn1.bias', 'backbone.body.layer4.1.bn1.running_mean', 'backbone.body.layer4.1.bn1.running_var', 'backbone.body.layer4.1.bn1.num_batches_tracked', 'backbone.body.layer4.1.conv2.weight', 'backbone.body.layer4.1.bn2.weight', 'backbone.body.layer4.1.bn2.bias', 'backbone.body.layer4.1.bn2.running_mean', 'backbone.body.layer4.1.bn2.running_var', 'backbone.body.layer4.1.bn2.num_batches_tracked', 'backbone.body.layer4.1.conv3.weight', 'backbone.body.layer4.1.bn3.weight', 'backbone.body.layer4.1.bn3.bias', 'backbone.body.layer4.1.bn3.running_mean', 'backbone.body.layer4.1.bn3.running_var', 'backbone.body.layer4.1.bn3.num_batches_tracked', 'backbone.body.layer4.2.conv1.weight', 'backbone.body.layer4.2.bn1.weight', 'backbone.body.layer4.2.bn1.bias', 'backbone.body.layer4.2.bn1.running_mean', 'backbone.body.layer4.2.bn1.running_var', 'backbone.body.layer4.2.bn1.num_batches_tracked', 'backbone.body.layer4.2.conv2.weight', 'backbone.body.layer4.2.bn2.weight', 'backbone.body.layer4.2.bn2.bias', 'backbone.body.layer4.2.bn2.running_mean', 'backbone.body.layer4.2.bn2.running_var', 'backbone.body.layer4.2.bn2.num_batches_tracked', 'backbone.body.layer4.2.conv3.weight', 'backbone.body.layer4.2.bn3.weight', 'backbone.body.layer4.2.bn3.bias', 'backbone.body.layer4.2.bn3.running_mean', 'backbone.body.layer4.2.bn3.running_var', 'backbone.body.layer4.2.bn3.num_batches_tracked', 'backbone.fpn.inner_blocks.0.0.weight', 'backbone.fpn.inner_blocks.0.1.weight', 'backbone.fpn.inner_blocks.0.1.bias', 'backbone.fpn.inner_blocks.0.1.running_mean', 'backbone.fpn.inner_blocks.0.1.running_var', 'backbone.fpn.inner_blocks.1.0.weight', 'backbone.fpn.inner_blocks.1.1.weight', 'backbone.fpn.inner_blocks.1.1.bias', 'backbone.fpn.inner_blocks.1.1.running_mean', 'backbone.fpn.inner_blocks.1.1.running_var', 'backbone.fpn.inner_blocks.2.0.weight', 'backbone.fpn.inner_blocks.2.1.weight', 'backbone.fpn.inner_blocks.2.1.bias', 'backbone.fpn.inner_blocks.2.1.running_mean', 'backbone.fpn.inner_blocks.2.1.running_var', 'backbone.fpn.inner_blocks.3.0.weight', 'backbone.fpn.inner_blocks.3.1.weight', 'backbone.fpn.inner_blocks.3.1.bias', 'backbone.fpn.inner_blocks.3.1.running_mean', 'backbone.fpn.inner_blocks.3.1.running_var', 'backbone.fpn.layer_blocks.0.0.weight', 'backbone.fpn.layer_blocks.0.1.weight', 'backbone.fpn.layer_blocks.0.1.bias', 'backbone.fpn.layer_blocks.0.1.running_mean', 'backbone.fpn.layer_blocks.0.1.running_var', 'backbone.fpn.layer_blocks.1.0.weight', 'backbone.fpn.layer_blocks.1.1.weight', 'backbone.fpn.layer_blocks.1.1.bias', 'backbone.fpn.layer_blocks.1.1.running_mean', 'backbone.fpn.layer_blocks.1.1.running_var', 'backbone.fpn.layer_blocks.2.0.weight', 'backbone.fpn.layer_blocks.2.1.weight', 'backbone.fpn.layer_blocks.2.1.bias', 'backbone.fpn.layer_blocks.2.1.running_mean', 'backbone.fpn.layer_blocks.2.1.running_var', 'backbone.fpn.layer_blocks.3.0.weight', 'backbone.fpn.layer_blocks.3.1.weight', 'backbone.fpn.layer_blocks.3.1.bias', 'backbone.fpn.layer_blocks.3.1.running_mean', 'backbone.fpn.layer_blocks.3.1.running_var', 'rpn.head.conv.0.0.weight', 'rpn.head.conv.0.0.bias', 'rpn.head.cls_logits.weight', 'rpn.head.cls_logits.bias', 'rpn.head.bbox_pred.weight', 'rpn.head.bbox_pred.bias', 'roi_heads.box_head.fc6.weight', 'roi_heads.box_head.fc6.bias', 'roi_heads.box_head.fc7.weight', 'roi_heads.box_head.fc7.bias', 'roi_heads.box_predictor.cls_score.weight', 'roi_heads.box_predictor.cls_score.bias', 'roi_heads.box_predictor.bbox_pred.weight', 'roi_heads.box_predictor.bbox_pred.bias', 'roi_heads.box_predictor.obbox_pred.weight', 'roi_heads.box_predictor.obbox_pred.bias']\n",
    "trained_state_dict=['backbone.body.conv1.weight', 'backbone.body.bn1.weight', 'backbone.body.bn1.bias', 'backbone.body.bn1.running_mean', 'backbone.body.bn1.running_var', 'backbone.body.layer1.0.conv1.weight', 'backbone.body.layer1.0.bn1.weight', 'backbone.body.layer1.0.bn1.bias', 'backbone.body.layer1.0.bn1.running_mean', 'backbone.body.layer1.0.bn1.running_var', 'backbone.body.layer1.0.conv2.weight', 'backbone.body.layer1.0.bn2.weight', 'backbone.body.layer1.0.bn2.bias', 'backbone.body.layer1.0.bn2.running_mean', 'backbone.body.layer1.0.bn2.running_var', 'backbone.body.layer1.0.conv3.weight', 'backbone.body.layer1.0.bn3.weight', 'backbone.body.layer1.0.bn3.bias', 'backbone.body.layer1.0.bn3.running_mean', 'backbone.body.layer1.0.bn3.running_var', 'backbone.body.layer1.0.downsample.0.weight', 'backbone.body.layer1.0.downsample.1.weight', 'backbone.body.layer1.0.downsample.1.bias', 'backbone.body.layer1.0.downsample.1.running_mean', 'backbone.body.layer1.0.downsample.1.running_var', 'backbone.body.layer1.1.conv1.weight', 'backbone.body.layer1.1.bn1.weight', 'backbone.body.layer1.1.bn1.bias', 'backbone.body.layer1.1.bn1.running_mean', 'backbone.body.layer1.1.bn1.running_var', 'backbone.body.layer1.1.conv2.weight', 'backbone.body.layer1.1.bn2.weight', 'backbone.body.layer1.1.bn2.bias', 'backbone.body.layer1.1.bn2.running_mean', 'backbone.body.layer1.1.bn2.running_var', 'backbone.body.layer1.1.conv3.weight', 'backbone.body.layer1.1.bn3.weight', 'backbone.body.layer1.1.bn3.bias', 'backbone.body.layer1.1.bn3.running_mean', 'backbone.body.layer1.1.bn3.running_var', 'backbone.body.layer1.2.conv1.weight', 'backbone.body.layer1.2.bn1.weight', 'backbone.body.layer1.2.bn1.bias', 'backbone.body.layer1.2.bn1.running_mean', 'backbone.body.layer1.2.bn1.running_var', 'backbone.body.layer1.2.conv2.weight', 'backbone.body.layer1.2.bn2.weight', 'backbone.body.layer1.2.bn2.bias', 'backbone.body.layer1.2.bn2.running_mean', 'backbone.body.layer1.2.bn2.running_var', 'backbone.body.layer1.2.conv3.weight', 'backbone.body.layer1.2.bn3.weight', 'backbone.body.layer1.2.bn3.bias', 'backbone.body.layer1.2.bn3.running_mean', 'backbone.body.layer1.2.bn3.running_var', 'backbone.body.layer2.0.conv1.weight', 'backbone.body.layer2.0.bn1.weight', 'backbone.body.layer2.0.bn1.bias', 'backbone.body.layer2.0.bn1.running_mean', 'backbone.body.layer2.0.bn1.running_var', 'backbone.body.layer2.0.conv2.weight', 'backbone.body.layer2.0.bn2.weight', 'backbone.body.layer2.0.bn2.bias', 'backbone.body.layer2.0.bn2.running_mean', 'backbone.body.layer2.0.bn2.running_var', 'backbone.body.layer2.0.conv3.weight', 'backbone.body.layer2.0.bn3.weight', 'backbone.body.layer2.0.bn3.bias', 'backbone.body.layer2.0.bn3.running_mean', 'backbone.body.layer2.0.bn3.running_var', 'backbone.body.layer2.0.downsample.0.weight', 'backbone.body.layer2.0.downsample.1.weight', 'backbone.body.layer2.0.downsample.1.bias', 'backbone.body.layer2.0.downsample.1.running_mean', 'backbone.body.layer2.0.downsample.1.running_var', 'backbone.body.layer2.1.conv1.weight', 'backbone.body.layer2.1.bn1.weight', 'backbone.body.layer2.1.bn1.bias', 'backbone.body.layer2.1.bn1.running_mean', 'backbone.body.layer2.1.bn1.running_var', 'backbone.body.layer2.1.conv2.weight', 'backbone.body.layer2.1.bn2.weight', 'backbone.body.layer2.1.bn2.bias', 'backbone.body.layer2.1.bn2.running_mean', 'backbone.body.layer2.1.bn2.running_var', 'backbone.body.layer2.1.conv3.weight', 'backbone.body.layer2.1.bn3.weight', 'backbone.body.layer2.1.bn3.bias', 'backbone.body.layer2.1.bn3.running_mean', 'backbone.body.layer2.1.bn3.running_var', 'backbone.body.layer2.2.conv1.weight', 'backbone.body.layer2.2.bn1.weight', 'backbone.body.layer2.2.bn1.bias', 'backbone.body.layer2.2.bn1.running_mean', 'backbone.body.layer2.2.bn1.running_var', 'backbone.body.layer2.2.conv2.weight', 'backbone.body.layer2.2.bn2.weight', 'backbone.body.layer2.2.bn2.bias', 'backbone.body.layer2.2.bn2.running_mean', 'backbone.body.layer2.2.bn2.running_var', 'backbone.body.layer2.2.conv3.weight', 'backbone.body.layer2.2.bn3.weight', 'backbone.body.layer2.2.bn3.bias', 'backbone.body.layer2.2.bn3.running_mean', 'backbone.body.layer2.2.bn3.running_var', 'backbone.body.layer2.3.conv1.weight', 'backbone.body.layer2.3.bn1.weight', 'backbone.body.layer2.3.bn1.bias', 'backbone.body.layer2.3.bn1.running_mean', 'backbone.body.layer2.3.bn1.running_var', 'backbone.body.layer2.3.conv2.weight', 'backbone.body.layer2.3.bn2.weight', 'backbone.body.layer2.3.bn2.bias', 'backbone.body.layer2.3.bn2.running_mean', 'backbone.body.layer2.3.bn2.running_var', 'backbone.body.layer2.3.conv3.weight', 'backbone.body.layer2.3.bn3.weight', 'backbone.body.layer2.3.bn3.bias', 'backbone.body.layer2.3.bn3.running_mean', 'backbone.body.layer2.3.bn3.running_var', 'backbone.body.layer3.0.conv1.weight', 'backbone.body.layer3.0.bn1.weight', 'backbone.body.layer3.0.bn1.bias', 'backbone.body.layer3.0.bn1.running_mean', 'backbone.body.layer3.0.bn1.running_var', 'backbone.body.layer3.0.conv2.weight', 'backbone.body.layer3.0.bn2.weight', 'backbone.body.layer3.0.bn2.bias', 'backbone.body.layer3.0.bn2.running_mean', 'backbone.body.layer3.0.bn2.running_var', 'backbone.body.layer3.0.conv3.weight', 'backbone.body.layer3.0.bn3.weight', 'backbone.body.layer3.0.bn3.bias', 'backbone.body.layer3.0.bn3.running_mean', 'backbone.body.layer3.0.bn3.running_var', 'backbone.body.layer3.0.downsample.0.weight', 'backbone.body.layer3.0.downsample.1.weight', 'backbone.body.layer3.0.downsample.1.bias', 'backbone.body.layer3.0.downsample.1.running_mean', 'backbone.body.layer3.0.downsample.1.running_var', 'backbone.body.layer3.1.conv1.weight', 'backbone.body.layer3.1.bn1.weight', 'backbone.body.layer3.1.bn1.bias', 'backbone.body.layer3.1.bn1.running_mean', 'backbone.body.layer3.1.bn1.running_var', 'backbone.body.layer3.1.conv2.weight', 'backbone.body.layer3.1.bn2.weight', 'backbone.body.layer3.1.bn2.bias', 'backbone.body.layer3.1.bn2.running_mean', 'backbone.body.layer3.1.bn2.running_var', 'backbone.body.layer3.1.conv3.weight', 'backbone.body.layer3.1.bn3.weight', 'backbone.body.layer3.1.bn3.bias', 'backbone.body.layer3.1.bn3.running_mean', 'backbone.body.layer3.1.bn3.running_var', 'backbone.body.layer3.2.conv1.weight', 'backbone.body.layer3.2.bn1.weight', 'backbone.body.layer3.2.bn1.bias', 'backbone.body.layer3.2.bn1.running_mean', 'backbone.body.layer3.2.bn1.running_var', 'backbone.body.layer3.2.conv2.weight', 'backbone.body.layer3.2.bn2.weight', 'backbone.body.layer3.2.bn2.bias', 'backbone.body.layer3.2.bn2.running_mean', 'backbone.body.layer3.2.bn2.running_var', 'backbone.body.layer3.2.conv3.weight', 'backbone.body.layer3.2.bn3.weight', 'backbone.body.layer3.2.bn3.bias', 'backbone.body.layer3.2.bn3.running_mean', 'backbone.body.layer3.2.bn3.running_var', 'backbone.body.layer3.3.conv1.weight', 'backbone.body.layer3.3.bn1.weight', 'backbone.body.layer3.3.bn1.bias', 'backbone.body.layer3.3.bn1.running_mean', 'backbone.body.layer3.3.bn1.running_var', 'backbone.body.layer3.3.conv2.weight', 'backbone.body.layer3.3.bn2.weight', 'backbone.body.layer3.3.bn2.bias', 'backbone.body.layer3.3.bn2.running_mean', 'backbone.body.layer3.3.bn2.running_var', 'backbone.body.layer3.3.conv3.weight', 'backbone.body.layer3.3.bn3.weight', 'backbone.body.layer3.3.bn3.bias', 'backbone.body.layer3.3.bn3.running_mean', 'backbone.body.layer3.3.bn3.running_var', 'backbone.body.layer3.4.conv1.weight', 'backbone.body.layer3.4.bn1.weight', 'backbone.body.layer3.4.bn1.bias', 'backbone.body.layer3.4.bn1.running_mean', 'backbone.body.layer3.4.bn1.running_var', 'backbone.body.layer3.4.conv2.weight', 'backbone.body.layer3.4.bn2.weight', 'backbone.body.layer3.4.bn2.bias', 'backbone.body.layer3.4.bn2.running_mean', 'backbone.body.layer3.4.bn2.running_var', 'backbone.body.layer3.4.conv3.weight', 'backbone.body.layer3.4.bn3.weight', 'backbone.body.layer3.4.bn3.bias', 'backbone.body.layer3.4.bn3.running_mean', 'backbone.body.layer3.4.bn3.running_var', 'backbone.body.layer3.5.conv1.weight', 'backbone.body.layer3.5.bn1.weight', 'backbone.body.layer3.5.bn1.bias', 'backbone.body.layer3.5.bn1.running_mean', 'backbone.body.layer3.5.bn1.running_var', 'backbone.body.layer3.5.conv2.weight', 'backbone.body.layer3.5.bn2.weight', 'backbone.body.layer3.5.bn2.bias', 'backbone.body.layer3.5.bn2.running_mean', 'backbone.body.layer3.5.bn2.running_var', 'backbone.body.layer3.5.conv3.weight', 'backbone.body.layer3.5.bn3.weight', 'backbone.body.layer3.5.bn3.bias', 'backbone.body.layer3.5.bn3.running_mean', 'backbone.body.layer3.5.bn3.running_var', 'backbone.body.layer4.0.conv1.weight', 'backbone.body.layer4.0.bn1.weight', 'backbone.body.layer4.0.bn1.bias', 'backbone.body.layer4.0.bn1.running_mean', 'backbone.body.layer4.0.bn1.running_var', 'backbone.body.layer4.0.conv2.weight', 'backbone.body.layer4.0.bn2.weight', 'backbone.body.layer4.0.bn2.bias', 'backbone.body.layer4.0.bn2.running_mean', 'backbone.body.layer4.0.bn2.running_var', 'backbone.body.layer4.0.conv3.weight', 'backbone.body.layer4.0.bn3.weight', 'backbone.body.layer4.0.bn3.bias', 'backbone.body.layer4.0.bn3.running_mean', 'backbone.body.layer4.0.bn3.running_var', 'backbone.body.layer4.0.downsample.0.weight', 'backbone.body.layer4.0.downsample.1.weight', 'backbone.body.layer4.0.downsample.1.bias', 'backbone.body.layer4.0.downsample.1.running_mean', 'backbone.body.layer4.0.downsample.1.running_var', 'backbone.body.layer4.1.conv1.weight', 'backbone.body.layer4.1.bn1.weight', 'backbone.body.layer4.1.bn1.bias', 'backbone.body.layer4.1.bn1.running_mean', 'backbone.body.layer4.1.bn1.running_var', 'backbone.body.layer4.1.conv2.weight', 'backbone.body.layer4.1.bn2.weight', 'backbone.body.layer4.1.bn2.bias', 'backbone.body.layer4.1.bn2.running_mean', 'backbone.body.layer4.1.bn2.running_var', 'backbone.body.layer4.1.conv3.weight', 'backbone.body.layer4.1.bn3.weight', 'backbone.body.layer4.1.bn3.bias', 'backbone.body.layer4.1.bn3.running_mean', 'backbone.body.layer4.1.bn3.running_var', 'backbone.body.layer4.2.conv1.weight', 'backbone.body.layer4.2.bn1.weight', 'backbone.body.layer4.2.bn1.bias', 'backbone.body.layer4.2.bn1.running_mean', 'backbone.body.layer4.2.bn1.running_var', 'backbone.body.layer4.2.conv2.weight', 'backbone.body.layer4.2.bn2.weight', 'backbone.body.layer4.2.bn2.bias', 'backbone.body.layer4.2.bn2.running_mean', 'backbone.body.layer4.2.bn2.running_var', 'backbone.body.layer4.2.conv3.weight', 'backbone.body.layer4.2.bn3.weight', 'backbone.body.layer4.2.bn3.bias', 'backbone.body.layer4.2.bn3.running_mean', 'backbone.body.layer4.2.bn3.running_var', 'backbone.fpn.inner_blocks.0.weight', 'backbone.fpn.inner_blocks.0.bias', 'backbone.fpn.inner_blocks.1.weight', 'backbone.fpn.inner_blocks.1.bias', 'backbone.fpn.inner_blocks.2.weight', 'backbone.fpn.inner_blocks.2.bias', 'backbone.fpn.inner_blocks.3.weight', 'backbone.fpn.inner_blocks.3.bias', 'backbone.fpn.layer_blocks.0.weight', 'backbone.fpn.layer_blocks.0.bias', 'backbone.fpn.layer_blocks.1.weight', 'backbone.fpn.layer_blocks.1.bias', 'backbone.fpn.layer_blocks.2.weight', 'backbone.fpn.layer_blocks.2.bias', 'backbone.fpn.layer_blocks.3.weight', 'backbone.fpn.layer_blocks.3.bias', 'rpn.head.conv.weight', 'rpn.head.conv.bias', 'rpn.head.cls_logits.weight', 'rpn.head.cls_logits.bias', 'rpn.head.bbox_pred.weight', 'rpn.head.bbox_pred.bias', 'roi_heads.box_head.fc6.weight', 'roi_heads.box_head.fc6.bias', 'roi_heads.box_head.fc7.weight', 'roi_heads.box_head.fc7.bias', 'roi_heads.box_predictor.cls_score.weight', 'roi_heads.box_predictor.cls_score.bias', 'roi_heads.box_predictor.bbox_pred.weight', 'roi_heads.box_predictor.bbox_pred.bias']"
   ]
  },
  {
   "cell_type": "code",
   "execution_count": 7,
   "metadata": {},
   "outputs": [
    {
     "data": {
      "text/plain": [
       "['backbone.fpn.inner_blocks.0.weight',\n",
       " 'backbone.fpn.inner_blocks.0.bias',\n",
       " 'backbone.fpn.inner_blocks.1.weight',\n",
       " 'backbone.fpn.inner_blocks.1.bias',\n",
       " 'backbone.fpn.inner_blocks.2.weight',\n",
       " 'backbone.fpn.inner_blocks.2.bias',\n",
       " 'backbone.fpn.inner_blocks.3.weight',\n",
       " 'backbone.fpn.inner_blocks.3.bias',\n",
       " 'backbone.fpn.layer_blocks.0.weight',\n",
       " 'backbone.fpn.layer_blocks.0.bias',\n",
       " 'backbone.fpn.layer_blocks.1.weight',\n",
       " 'backbone.fpn.layer_blocks.1.bias',\n",
       " 'backbone.fpn.layer_blocks.2.weight',\n",
       " 'backbone.fpn.layer_blocks.2.bias',\n",
       " 'backbone.fpn.layer_blocks.3.weight',\n",
       " 'backbone.fpn.layer_blocks.3.bias']"
      ]
     },
     "execution_count": 7,
     "metadata": {},
     "output_type": "execute_result"
    }
   ],
   "source": [
    "list(filter(lambda x: \"fpn\" in x, trained_state_dict))\n"
   ]
  },
  {
   "cell_type": "code",
   "execution_count": 6,
   "metadata": {},
   "outputs": [
    {
     "data": {
      "text/plain": [
       "['backbone.fpn.inner_blocks.0.0.weight',\n",
       " 'backbone.fpn.inner_blocks.0.1.weight',\n",
       " 'backbone.fpn.inner_blocks.0.1.bias',\n",
       " 'backbone.fpn.inner_blocks.0.1.running_mean',\n",
       " 'backbone.fpn.inner_blocks.0.1.running_var',\n",
       " 'backbone.fpn.inner_blocks.1.0.weight',\n",
       " 'backbone.fpn.inner_blocks.1.1.weight',\n",
       " 'backbone.fpn.inner_blocks.1.1.bias',\n",
       " 'backbone.fpn.inner_blocks.1.1.running_mean',\n",
       " 'backbone.fpn.inner_blocks.1.1.running_var',\n",
       " 'backbone.fpn.inner_blocks.2.0.weight',\n",
       " 'backbone.fpn.inner_blocks.2.1.weight',\n",
       " 'backbone.fpn.inner_blocks.2.1.bias',\n",
       " 'backbone.fpn.inner_blocks.2.1.running_mean',\n",
       " 'backbone.fpn.inner_blocks.2.1.running_var',\n",
       " 'backbone.fpn.inner_blocks.3.0.weight',\n",
       " 'backbone.fpn.inner_blocks.3.1.weight',\n",
       " 'backbone.fpn.inner_blocks.3.1.bias',\n",
       " 'backbone.fpn.inner_blocks.3.1.running_mean',\n",
       " 'backbone.fpn.inner_blocks.3.1.running_var',\n",
       " 'backbone.fpn.layer_blocks.0.0.weight',\n",
       " 'backbone.fpn.layer_blocks.0.1.weight',\n",
       " 'backbone.fpn.layer_blocks.0.1.bias',\n",
       " 'backbone.fpn.layer_blocks.0.1.running_mean',\n",
       " 'backbone.fpn.layer_blocks.0.1.running_var',\n",
       " 'backbone.fpn.layer_blocks.1.0.weight',\n",
       " 'backbone.fpn.layer_blocks.1.1.weight',\n",
       " 'backbone.fpn.layer_blocks.1.1.bias',\n",
       " 'backbone.fpn.layer_blocks.1.1.running_mean',\n",
       " 'backbone.fpn.layer_blocks.1.1.running_var',\n",
       " 'backbone.fpn.layer_blocks.2.0.weight',\n",
       " 'backbone.fpn.layer_blocks.2.1.weight',\n",
       " 'backbone.fpn.layer_blocks.2.1.bias',\n",
       " 'backbone.fpn.layer_blocks.2.1.running_mean',\n",
       " 'backbone.fpn.layer_blocks.2.1.running_var',\n",
       " 'backbone.fpn.layer_blocks.3.0.weight',\n",
       " 'backbone.fpn.layer_blocks.3.1.weight',\n",
       " 'backbone.fpn.layer_blocks.3.1.bias',\n",
       " 'backbone.fpn.layer_blocks.3.1.running_mean',\n",
       " 'backbone.fpn.layer_blocks.3.1.running_var']"
      ]
     },
     "execution_count": 6,
     "metadata": {},
     "output_type": "execute_result"
    }
   ],
   "source": [
    "list(filter(lambda x: \"fpn\" in x, model_state_dict))"
   ]
  },
  {
   "cell_type": "code",
   "execution_count": 8,
   "metadata": {},
   "outputs": [
    {
     "name": "stderr",
     "output_type": "stream",
     "text": [
      "/usr/lib/python3/dist-packages/requests/__init__.py:89: RequestsDependencyWarning: urllib3 (2.0.4) or chardet (3.0.4) doesn't match a supported version!\n",
      "  warnings.warn(\"urllib3 ({}) or chardet ({}) doesn't match a supported \"\n"
     ]
    }
   ],
   "source": [
    "from torchvision.models.detection.faster_rcnn import (\n",
    "    FasterRCNN_MobileNet_V3_Large_320_FPN_Weights,\n",
    "    FasterRCNN_MobileNet_V3_Large_FPN_Weights,\n",
    "    FasterRCNN_ResNet50_FPN_Weights, \n",
    "    FasterRCNN_ResNet50_FPN_V2_Weights,\n",
    ")"
   ]
  },
  {
   "cell_type": "code",
   "execution_count": 15,
   "metadata": {},
   "outputs": [],
   "source": [
    "weights = FasterRCNN_ResNet50_FPN_Weights.COCO_V1\n",
    "weights_v2 = FasterRCNN_ResNet50_FPN_V2_Weights.COCO_V1"
   ]
  },
  {
   "cell_type": "code",
   "execution_count": 16,
   "metadata": {},
   "outputs": [],
   "source": [
    "trained_state_dict = weights.get_state_dict(progress=True)\n",
    "trained_state_dict_v2 = weights_v2.get_state_dict(progress=True)"
   ]
  },
  {
   "cell_type": "code",
   "execution_count": 18,
   "metadata": {},
   "outputs": [
    {
     "data": {
      "text/plain": [
       "odict_keys(['backbone.body.conv1.weight', 'backbone.body.bn1.weight', 'backbone.body.bn1.bias', 'backbone.body.bn1.running_mean', 'backbone.body.bn1.running_var', 'backbone.body.layer1.0.conv1.weight', 'backbone.body.layer1.0.bn1.weight', 'backbone.body.layer1.0.bn1.bias', 'backbone.body.layer1.0.bn1.running_mean', 'backbone.body.layer1.0.bn1.running_var', 'backbone.body.layer1.0.conv2.weight', 'backbone.body.layer1.0.bn2.weight', 'backbone.body.layer1.0.bn2.bias', 'backbone.body.layer1.0.bn2.running_mean', 'backbone.body.layer1.0.bn2.running_var', 'backbone.body.layer1.0.conv3.weight', 'backbone.body.layer1.0.bn3.weight', 'backbone.body.layer1.0.bn3.bias', 'backbone.body.layer1.0.bn3.running_mean', 'backbone.body.layer1.0.bn3.running_var', 'backbone.body.layer1.0.downsample.0.weight', 'backbone.body.layer1.0.downsample.1.weight', 'backbone.body.layer1.0.downsample.1.bias', 'backbone.body.layer1.0.downsample.1.running_mean', 'backbone.body.layer1.0.downsample.1.running_var', 'backbone.body.layer1.1.conv1.weight', 'backbone.body.layer1.1.bn1.weight', 'backbone.body.layer1.1.bn1.bias', 'backbone.body.layer1.1.bn1.running_mean', 'backbone.body.layer1.1.bn1.running_var', 'backbone.body.layer1.1.conv2.weight', 'backbone.body.layer1.1.bn2.weight', 'backbone.body.layer1.1.bn2.bias', 'backbone.body.layer1.1.bn2.running_mean', 'backbone.body.layer1.1.bn2.running_var', 'backbone.body.layer1.1.conv3.weight', 'backbone.body.layer1.1.bn3.weight', 'backbone.body.layer1.1.bn3.bias', 'backbone.body.layer1.1.bn3.running_mean', 'backbone.body.layer1.1.bn3.running_var', 'backbone.body.layer1.2.conv1.weight', 'backbone.body.layer1.2.bn1.weight', 'backbone.body.layer1.2.bn1.bias', 'backbone.body.layer1.2.bn1.running_mean', 'backbone.body.layer1.2.bn1.running_var', 'backbone.body.layer1.2.conv2.weight', 'backbone.body.layer1.2.bn2.weight', 'backbone.body.layer1.2.bn2.bias', 'backbone.body.layer1.2.bn2.running_mean', 'backbone.body.layer1.2.bn2.running_var', 'backbone.body.layer1.2.conv3.weight', 'backbone.body.layer1.2.bn3.weight', 'backbone.body.layer1.2.bn3.bias', 'backbone.body.layer1.2.bn3.running_mean', 'backbone.body.layer1.2.bn3.running_var', 'backbone.body.layer2.0.conv1.weight', 'backbone.body.layer2.0.bn1.weight', 'backbone.body.layer2.0.bn1.bias', 'backbone.body.layer2.0.bn1.running_mean', 'backbone.body.layer2.0.bn1.running_var', 'backbone.body.layer2.0.conv2.weight', 'backbone.body.layer2.0.bn2.weight', 'backbone.body.layer2.0.bn2.bias', 'backbone.body.layer2.0.bn2.running_mean', 'backbone.body.layer2.0.bn2.running_var', 'backbone.body.layer2.0.conv3.weight', 'backbone.body.layer2.0.bn3.weight', 'backbone.body.layer2.0.bn3.bias', 'backbone.body.layer2.0.bn3.running_mean', 'backbone.body.layer2.0.bn3.running_var', 'backbone.body.layer2.0.downsample.0.weight', 'backbone.body.layer2.0.downsample.1.weight', 'backbone.body.layer2.0.downsample.1.bias', 'backbone.body.layer2.0.downsample.1.running_mean', 'backbone.body.layer2.0.downsample.1.running_var', 'backbone.body.layer2.1.conv1.weight', 'backbone.body.layer2.1.bn1.weight', 'backbone.body.layer2.1.bn1.bias', 'backbone.body.layer2.1.bn1.running_mean', 'backbone.body.layer2.1.bn1.running_var', 'backbone.body.layer2.1.conv2.weight', 'backbone.body.layer2.1.bn2.weight', 'backbone.body.layer2.1.bn2.bias', 'backbone.body.layer2.1.bn2.running_mean', 'backbone.body.layer2.1.bn2.running_var', 'backbone.body.layer2.1.conv3.weight', 'backbone.body.layer2.1.bn3.weight', 'backbone.body.layer2.1.bn3.bias', 'backbone.body.layer2.1.bn3.running_mean', 'backbone.body.layer2.1.bn3.running_var', 'backbone.body.layer2.2.conv1.weight', 'backbone.body.layer2.2.bn1.weight', 'backbone.body.layer2.2.bn1.bias', 'backbone.body.layer2.2.bn1.running_mean', 'backbone.body.layer2.2.bn1.running_var', 'backbone.body.layer2.2.conv2.weight', 'backbone.body.layer2.2.bn2.weight', 'backbone.body.layer2.2.bn2.bias', 'backbone.body.layer2.2.bn2.running_mean', 'backbone.body.layer2.2.bn2.running_var', 'backbone.body.layer2.2.conv3.weight', 'backbone.body.layer2.2.bn3.weight', 'backbone.body.layer2.2.bn3.bias', 'backbone.body.layer2.2.bn3.running_mean', 'backbone.body.layer2.2.bn3.running_var', 'backbone.body.layer2.3.conv1.weight', 'backbone.body.layer2.3.bn1.weight', 'backbone.body.layer2.3.bn1.bias', 'backbone.body.layer2.3.bn1.running_mean', 'backbone.body.layer2.3.bn1.running_var', 'backbone.body.layer2.3.conv2.weight', 'backbone.body.layer2.3.bn2.weight', 'backbone.body.layer2.3.bn2.bias', 'backbone.body.layer2.3.bn2.running_mean', 'backbone.body.layer2.3.bn2.running_var', 'backbone.body.layer2.3.conv3.weight', 'backbone.body.layer2.3.bn3.weight', 'backbone.body.layer2.3.bn3.bias', 'backbone.body.layer2.3.bn3.running_mean', 'backbone.body.layer2.3.bn3.running_var', 'backbone.body.layer3.0.conv1.weight', 'backbone.body.layer3.0.bn1.weight', 'backbone.body.layer3.0.bn1.bias', 'backbone.body.layer3.0.bn1.running_mean', 'backbone.body.layer3.0.bn1.running_var', 'backbone.body.layer3.0.conv2.weight', 'backbone.body.layer3.0.bn2.weight', 'backbone.body.layer3.0.bn2.bias', 'backbone.body.layer3.0.bn2.running_mean', 'backbone.body.layer3.0.bn2.running_var', 'backbone.body.layer3.0.conv3.weight', 'backbone.body.layer3.0.bn3.weight', 'backbone.body.layer3.0.bn3.bias', 'backbone.body.layer3.0.bn3.running_mean', 'backbone.body.layer3.0.bn3.running_var', 'backbone.body.layer3.0.downsample.0.weight', 'backbone.body.layer3.0.downsample.1.weight', 'backbone.body.layer3.0.downsample.1.bias', 'backbone.body.layer3.0.downsample.1.running_mean', 'backbone.body.layer3.0.downsample.1.running_var', 'backbone.body.layer3.1.conv1.weight', 'backbone.body.layer3.1.bn1.weight', 'backbone.body.layer3.1.bn1.bias', 'backbone.body.layer3.1.bn1.running_mean', 'backbone.body.layer3.1.bn1.running_var', 'backbone.body.layer3.1.conv2.weight', 'backbone.body.layer3.1.bn2.weight', 'backbone.body.layer3.1.bn2.bias', 'backbone.body.layer3.1.bn2.running_mean', 'backbone.body.layer3.1.bn2.running_var', 'backbone.body.layer3.1.conv3.weight', 'backbone.body.layer3.1.bn3.weight', 'backbone.body.layer3.1.bn3.bias', 'backbone.body.layer3.1.bn3.running_mean', 'backbone.body.layer3.1.bn3.running_var', 'backbone.body.layer3.2.conv1.weight', 'backbone.body.layer3.2.bn1.weight', 'backbone.body.layer3.2.bn1.bias', 'backbone.body.layer3.2.bn1.running_mean', 'backbone.body.layer3.2.bn1.running_var', 'backbone.body.layer3.2.conv2.weight', 'backbone.body.layer3.2.bn2.weight', 'backbone.body.layer3.2.bn2.bias', 'backbone.body.layer3.2.bn2.running_mean', 'backbone.body.layer3.2.bn2.running_var', 'backbone.body.layer3.2.conv3.weight', 'backbone.body.layer3.2.bn3.weight', 'backbone.body.layer3.2.bn3.bias', 'backbone.body.layer3.2.bn3.running_mean', 'backbone.body.layer3.2.bn3.running_var', 'backbone.body.layer3.3.conv1.weight', 'backbone.body.layer3.3.bn1.weight', 'backbone.body.layer3.3.bn1.bias', 'backbone.body.layer3.3.bn1.running_mean', 'backbone.body.layer3.3.bn1.running_var', 'backbone.body.layer3.3.conv2.weight', 'backbone.body.layer3.3.bn2.weight', 'backbone.body.layer3.3.bn2.bias', 'backbone.body.layer3.3.bn2.running_mean', 'backbone.body.layer3.3.bn2.running_var', 'backbone.body.layer3.3.conv3.weight', 'backbone.body.layer3.3.bn3.weight', 'backbone.body.layer3.3.bn3.bias', 'backbone.body.layer3.3.bn3.running_mean', 'backbone.body.layer3.3.bn3.running_var', 'backbone.body.layer3.4.conv1.weight', 'backbone.body.layer3.4.bn1.weight', 'backbone.body.layer3.4.bn1.bias', 'backbone.body.layer3.4.bn1.running_mean', 'backbone.body.layer3.4.bn1.running_var', 'backbone.body.layer3.4.conv2.weight', 'backbone.body.layer3.4.bn2.weight', 'backbone.body.layer3.4.bn2.bias', 'backbone.body.layer3.4.bn2.running_mean', 'backbone.body.layer3.4.bn2.running_var', 'backbone.body.layer3.4.conv3.weight', 'backbone.body.layer3.4.bn3.weight', 'backbone.body.layer3.4.bn3.bias', 'backbone.body.layer3.4.bn3.running_mean', 'backbone.body.layer3.4.bn3.running_var', 'backbone.body.layer3.5.conv1.weight', 'backbone.body.layer3.5.bn1.weight', 'backbone.body.layer3.5.bn1.bias', 'backbone.body.layer3.5.bn1.running_mean', 'backbone.body.layer3.5.bn1.running_var', 'backbone.body.layer3.5.conv2.weight', 'backbone.body.layer3.5.bn2.weight', 'backbone.body.layer3.5.bn2.bias', 'backbone.body.layer3.5.bn2.running_mean', 'backbone.body.layer3.5.bn2.running_var', 'backbone.body.layer3.5.conv3.weight', 'backbone.body.layer3.5.bn3.weight', 'backbone.body.layer3.5.bn3.bias', 'backbone.body.layer3.5.bn3.running_mean', 'backbone.body.layer3.5.bn3.running_var', 'backbone.body.layer4.0.conv1.weight', 'backbone.body.layer4.0.bn1.weight', 'backbone.body.layer4.0.bn1.bias', 'backbone.body.layer4.0.bn1.running_mean', 'backbone.body.layer4.0.bn1.running_var', 'backbone.body.layer4.0.conv2.weight', 'backbone.body.layer4.0.bn2.weight', 'backbone.body.layer4.0.bn2.bias', 'backbone.body.layer4.0.bn2.running_mean', 'backbone.body.layer4.0.bn2.running_var', 'backbone.body.layer4.0.conv3.weight', 'backbone.body.layer4.0.bn3.weight', 'backbone.body.layer4.0.bn3.bias', 'backbone.body.layer4.0.bn3.running_mean', 'backbone.body.layer4.0.bn3.running_var', 'backbone.body.layer4.0.downsample.0.weight', 'backbone.body.layer4.0.downsample.1.weight', 'backbone.body.layer4.0.downsample.1.bias', 'backbone.body.layer4.0.downsample.1.running_mean', 'backbone.body.layer4.0.downsample.1.running_var', 'backbone.body.layer4.1.conv1.weight', 'backbone.body.layer4.1.bn1.weight', 'backbone.body.layer4.1.bn1.bias', 'backbone.body.layer4.1.bn1.running_mean', 'backbone.body.layer4.1.bn1.running_var', 'backbone.body.layer4.1.conv2.weight', 'backbone.body.layer4.1.bn2.weight', 'backbone.body.layer4.1.bn2.bias', 'backbone.body.layer4.1.bn2.running_mean', 'backbone.body.layer4.1.bn2.running_var', 'backbone.body.layer4.1.conv3.weight', 'backbone.body.layer4.1.bn3.weight', 'backbone.body.layer4.1.bn3.bias', 'backbone.body.layer4.1.bn3.running_mean', 'backbone.body.layer4.1.bn3.running_var', 'backbone.body.layer4.2.conv1.weight', 'backbone.body.layer4.2.bn1.weight', 'backbone.body.layer4.2.bn1.bias', 'backbone.body.layer4.2.bn1.running_mean', 'backbone.body.layer4.2.bn1.running_var', 'backbone.body.layer4.2.conv2.weight', 'backbone.body.layer4.2.bn2.weight', 'backbone.body.layer4.2.bn2.bias', 'backbone.body.layer4.2.bn2.running_mean', 'backbone.body.layer4.2.bn2.running_var', 'backbone.body.layer4.2.conv3.weight', 'backbone.body.layer4.2.bn3.weight', 'backbone.body.layer4.2.bn3.bias', 'backbone.body.layer4.2.bn3.running_mean', 'backbone.body.layer4.2.bn3.running_var', 'backbone.fpn.inner_blocks.0.weight', 'backbone.fpn.inner_blocks.0.bias', 'backbone.fpn.inner_blocks.1.weight', 'backbone.fpn.inner_blocks.1.bias', 'backbone.fpn.inner_blocks.2.weight', 'backbone.fpn.inner_blocks.2.bias', 'backbone.fpn.inner_blocks.3.weight', 'backbone.fpn.inner_blocks.3.bias', 'backbone.fpn.layer_blocks.0.weight', 'backbone.fpn.layer_blocks.0.bias', 'backbone.fpn.layer_blocks.1.weight', 'backbone.fpn.layer_blocks.1.bias', 'backbone.fpn.layer_blocks.2.weight', 'backbone.fpn.layer_blocks.2.bias', 'backbone.fpn.layer_blocks.3.weight', 'backbone.fpn.layer_blocks.3.bias', 'rpn.head.conv.weight', 'rpn.head.conv.bias', 'rpn.head.cls_logits.weight', 'rpn.head.cls_logits.bias', 'rpn.head.bbox_pred.weight', 'rpn.head.bbox_pred.bias', 'roi_heads.box_head.fc6.weight', 'roi_heads.box_head.fc6.bias', 'roi_heads.box_head.fc7.weight', 'roi_heads.box_head.fc7.bias', 'roi_heads.box_predictor.cls_score.weight', 'roi_heads.box_predictor.cls_score.bias', 'roi_heads.box_predictor.bbox_pred.weight', 'roi_heads.box_predictor.bbox_pred.bias'])"
      ]
     },
     "execution_count": 18,
     "metadata": {},
     "output_type": "execute_result"
    }
   ],
   "source": [
    "trained_state_dict.keys()"
   ]
  },
  {
   "cell_type": "code",
   "execution_count": 19,
   "metadata": {},
   "outputs": [
    {
     "data": {
      "text/plain": [
       "odict_keys(['backbone.body.conv1.weight', 'backbone.body.bn1.weight', 'backbone.body.bn1.bias', 'backbone.body.bn1.running_mean', 'backbone.body.bn1.running_var', 'backbone.body.bn1.num_batches_tracked', 'backbone.body.layer1.0.conv1.weight', 'backbone.body.layer1.0.bn1.weight', 'backbone.body.layer1.0.bn1.bias', 'backbone.body.layer1.0.bn1.running_mean', 'backbone.body.layer1.0.bn1.running_var', 'backbone.body.layer1.0.bn1.num_batches_tracked', 'backbone.body.layer1.0.conv2.weight', 'backbone.body.layer1.0.bn2.weight', 'backbone.body.layer1.0.bn2.bias', 'backbone.body.layer1.0.bn2.running_mean', 'backbone.body.layer1.0.bn2.running_var', 'backbone.body.layer1.0.bn2.num_batches_tracked', 'backbone.body.layer1.0.conv3.weight', 'backbone.body.layer1.0.bn3.weight', 'backbone.body.layer1.0.bn3.bias', 'backbone.body.layer1.0.bn3.running_mean', 'backbone.body.layer1.0.bn3.running_var', 'backbone.body.layer1.0.bn3.num_batches_tracked', 'backbone.body.layer1.0.downsample.0.weight', 'backbone.body.layer1.0.downsample.1.weight', 'backbone.body.layer1.0.downsample.1.bias', 'backbone.body.layer1.0.downsample.1.running_mean', 'backbone.body.layer1.0.downsample.1.running_var', 'backbone.body.layer1.0.downsample.1.num_batches_tracked', 'backbone.body.layer1.1.conv1.weight', 'backbone.body.layer1.1.bn1.weight', 'backbone.body.layer1.1.bn1.bias', 'backbone.body.layer1.1.bn1.running_mean', 'backbone.body.layer1.1.bn1.running_var', 'backbone.body.layer1.1.bn1.num_batches_tracked', 'backbone.body.layer1.1.conv2.weight', 'backbone.body.layer1.1.bn2.weight', 'backbone.body.layer1.1.bn2.bias', 'backbone.body.layer1.1.bn2.running_mean', 'backbone.body.layer1.1.bn2.running_var', 'backbone.body.layer1.1.bn2.num_batches_tracked', 'backbone.body.layer1.1.conv3.weight', 'backbone.body.layer1.1.bn3.weight', 'backbone.body.layer1.1.bn3.bias', 'backbone.body.layer1.1.bn3.running_mean', 'backbone.body.layer1.1.bn3.running_var', 'backbone.body.layer1.1.bn3.num_batches_tracked', 'backbone.body.layer1.2.conv1.weight', 'backbone.body.layer1.2.bn1.weight', 'backbone.body.layer1.2.bn1.bias', 'backbone.body.layer1.2.bn1.running_mean', 'backbone.body.layer1.2.bn1.running_var', 'backbone.body.layer1.2.bn1.num_batches_tracked', 'backbone.body.layer1.2.conv2.weight', 'backbone.body.layer1.2.bn2.weight', 'backbone.body.layer1.2.bn2.bias', 'backbone.body.layer1.2.bn2.running_mean', 'backbone.body.layer1.2.bn2.running_var', 'backbone.body.layer1.2.bn2.num_batches_tracked', 'backbone.body.layer1.2.conv3.weight', 'backbone.body.layer1.2.bn3.weight', 'backbone.body.layer1.2.bn3.bias', 'backbone.body.layer1.2.bn3.running_mean', 'backbone.body.layer1.2.bn3.running_var', 'backbone.body.layer1.2.bn3.num_batches_tracked', 'backbone.body.layer2.0.conv1.weight', 'backbone.body.layer2.0.bn1.weight', 'backbone.body.layer2.0.bn1.bias', 'backbone.body.layer2.0.bn1.running_mean', 'backbone.body.layer2.0.bn1.running_var', 'backbone.body.layer2.0.bn1.num_batches_tracked', 'backbone.body.layer2.0.conv2.weight', 'backbone.body.layer2.0.bn2.weight', 'backbone.body.layer2.0.bn2.bias', 'backbone.body.layer2.0.bn2.running_mean', 'backbone.body.layer2.0.bn2.running_var', 'backbone.body.layer2.0.bn2.num_batches_tracked', 'backbone.body.layer2.0.conv3.weight', 'backbone.body.layer2.0.bn3.weight', 'backbone.body.layer2.0.bn3.bias', 'backbone.body.layer2.0.bn3.running_mean', 'backbone.body.layer2.0.bn3.running_var', 'backbone.body.layer2.0.bn3.num_batches_tracked', 'backbone.body.layer2.0.downsample.0.weight', 'backbone.body.layer2.0.downsample.1.weight', 'backbone.body.layer2.0.downsample.1.bias', 'backbone.body.layer2.0.downsample.1.running_mean', 'backbone.body.layer2.0.downsample.1.running_var', 'backbone.body.layer2.0.downsample.1.num_batches_tracked', 'backbone.body.layer2.1.conv1.weight', 'backbone.body.layer2.1.bn1.weight', 'backbone.body.layer2.1.bn1.bias', 'backbone.body.layer2.1.bn1.running_mean', 'backbone.body.layer2.1.bn1.running_var', 'backbone.body.layer2.1.bn1.num_batches_tracked', 'backbone.body.layer2.1.conv2.weight', 'backbone.body.layer2.1.bn2.weight', 'backbone.body.layer2.1.bn2.bias', 'backbone.body.layer2.1.bn2.running_mean', 'backbone.body.layer2.1.bn2.running_var', 'backbone.body.layer2.1.bn2.num_batches_tracked', 'backbone.body.layer2.1.conv3.weight', 'backbone.body.layer2.1.bn3.weight', 'backbone.body.layer2.1.bn3.bias', 'backbone.body.layer2.1.bn3.running_mean', 'backbone.body.layer2.1.bn3.running_var', 'backbone.body.layer2.1.bn3.num_batches_tracked', 'backbone.body.layer2.2.conv1.weight', 'backbone.body.layer2.2.bn1.weight', 'backbone.body.layer2.2.bn1.bias', 'backbone.body.layer2.2.bn1.running_mean', 'backbone.body.layer2.2.bn1.running_var', 'backbone.body.layer2.2.bn1.num_batches_tracked', 'backbone.body.layer2.2.conv2.weight', 'backbone.body.layer2.2.bn2.weight', 'backbone.body.layer2.2.bn2.bias', 'backbone.body.layer2.2.bn2.running_mean', 'backbone.body.layer2.2.bn2.running_var', 'backbone.body.layer2.2.bn2.num_batches_tracked', 'backbone.body.layer2.2.conv3.weight', 'backbone.body.layer2.2.bn3.weight', 'backbone.body.layer2.2.bn3.bias', 'backbone.body.layer2.2.bn3.running_mean', 'backbone.body.layer2.2.bn3.running_var', 'backbone.body.layer2.2.bn3.num_batches_tracked', 'backbone.body.layer2.3.conv1.weight', 'backbone.body.layer2.3.bn1.weight', 'backbone.body.layer2.3.bn1.bias', 'backbone.body.layer2.3.bn1.running_mean', 'backbone.body.layer2.3.bn1.running_var', 'backbone.body.layer2.3.bn1.num_batches_tracked', 'backbone.body.layer2.3.conv2.weight', 'backbone.body.layer2.3.bn2.weight', 'backbone.body.layer2.3.bn2.bias', 'backbone.body.layer2.3.bn2.running_mean', 'backbone.body.layer2.3.bn2.running_var', 'backbone.body.layer2.3.bn2.num_batches_tracked', 'backbone.body.layer2.3.conv3.weight', 'backbone.body.layer2.3.bn3.weight', 'backbone.body.layer2.3.bn3.bias', 'backbone.body.layer2.3.bn3.running_mean', 'backbone.body.layer2.3.bn3.running_var', 'backbone.body.layer2.3.bn3.num_batches_tracked', 'backbone.body.layer3.0.conv1.weight', 'backbone.body.layer3.0.bn1.weight', 'backbone.body.layer3.0.bn1.bias', 'backbone.body.layer3.0.bn1.running_mean', 'backbone.body.layer3.0.bn1.running_var', 'backbone.body.layer3.0.bn1.num_batches_tracked', 'backbone.body.layer3.0.conv2.weight', 'backbone.body.layer3.0.bn2.weight', 'backbone.body.layer3.0.bn2.bias', 'backbone.body.layer3.0.bn2.running_mean', 'backbone.body.layer3.0.bn2.running_var', 'backbone.body.layer3.0.bn2.num_batches_tracked', 'backbone.body.layer3.0.conv3.weight', 'backbone.body.layer3.0.bn3.weight', 'backbone.body.layer3.0.bn3.bias', 'backbone.body.layer3.0.bn3.running_mean', 'backbone.body.layer3.0.bn3.running_var', 'backbone.body.layer3.0.bn3.num_batches_tracked', 'backbone.body.layer3.0.downsample.0.weight', 'backbone.body.layer3.0.downsample.1.weight', 'backbone.body.layer3.0.downsample.1.bias', 'backbone.body.layer3.0.downsample.1.running_mean', 'backbone.body.layer3.0.downsample.1.running_var', 'backbone.body.layer3.0.downsample.1.num_batches_tracked', 'backbone.body.layer3.1.conv1.weight', 'backbone.body.layer3.1.bn1.weight', 'backbone.body.layer3.1.bn1.bias', 'backbone.body.layer3.1.bn1.running_mean', 'backbone.body.layer3.1.bn1.running_var', 'backbone.body.layer3.1.bn1.num_batches_tracked', 'backbone.body.layer3.1.conv2.weight', 'backbone.body.layer3.1.bn2.weight', 'backbone.body.layer3.1.bn2.bias', 'backbone.body.layer3.1.bn2.running_mean', 'backbone.body.layer3.1.bn2.running_var', 'backbone.body.layer3.1.bn2.num_batches_tracked', 'backbone.body.layer3.1.conv3.weight', 'backbone.body.layer3.1.bn3.weight', 'backbone.body.layer3.1.bn3.bias', 'backbone.body.layer3.1.bn3.running_mean', 'backbone.body.layer3.1.bn3.running_var', 'backbone.body.layer3.1.bn3.num_batches_tracked', 'backbone.body.layer3.2.conv1.weight', 'backbone.body.layer3.2.bn1.weight', 'backbone.body.layer3.2.bn1.bias', 'backbone.body.layer3.2.bn1.running_mean', 'backbone.body.layer3.2.bn1.running_var', 'backbone.body.layer3.2.bn1.num_batches_tracked', 'backbone.body.layer3.2.conv2.weight', 'backbone.body.layer3.2.bn2.weight', 'backbone.body.layer3.2.bn2.bias', 'backbone.body.layer3.2.bn2.running_mean', 'backbone.body.layer3.2.bn2.running_var', 'backbone.body.layer3.2.bn2.num_batches_tracked', 'backbone.body.layer3.2.conv3.weight', 'backbone.body.layer3.2.bn3.weight', 'backbone.body.layer3.2.bn3.bias', 'backbone.body.layer3.2.bn3.running_mean', 'backbone.body.layer3.2.bn3.running_var', 'backbone.body.layer3.2.bn3.num_batches_tracked', 'backbone.body.layer3.3.conv1.weight', 'backbone.body.layer3.3.bn1.weight', 'backbone.body.layer3.3.bn1.bias', 'backbone.body.layer3.3.bn1.running_mean', 'backbone.body.layer3.3.bn1.running_var', 'backbone.body.layer3.3.bn1.num_batches_tracked', 'backbone.body.layer3.3.conv2.weight', 'backbone.body.layer3.3.bn2.weight', 'backbone.body.layer3.3.bn2.bias', 'backbone.body.layer3.3.bn2.running_mean', 'backbone.body.layer3.3.bn2.running_var', 'backbone.body.layer3.3.bn2.num_batches_tracked', 'backbone.body.layer3.3.conv3.weight', 'backbone.body.layer3.3.bn3.weight', 'backbone.body.layer3.3.bn3.bias', 'backbone.body.layer3.3.bn3.running_mean', 'backbone.body.layer3.3.bn3.running_var', 'backbone.body.layer3.3.bn3.num_batches_tracked', 'backbone.body.layer3.4.conv1.weight', 'backbone.body.layer3.4.bn1.weight', 'backbone.body.layer3.4.bn1.bias', 'backbone.body.layer3.4.bn1.running_mean', 'backbone.body.layer3.4.bn1.running_var', 'backbone.body.layer3.4.bn1.num_batches_tracked', 'backbone.body.layer3.4.conv2.weight', 'backbone.body.layer3.4.bn2.weight', 'backbone.body.layer3.4.bn2.bias', 'backbone.body.layer3.4.bn2.running_mean', 'backbone.body.layer3.4.bn2.running_var', 'backbone.body.layer3.4.bn2.num_batches_tracked', 'backbone.body.layer3.4.conv3.weight', 'backbone.body.layer3.4.bn3.weight', 'backbone.body.layer3.4.bn3.bias', 'backbone.body.layer3.4.bn3.running_mean', 'backbone.body.layer3.4.bn3.running_var', 'backbone.body.layer3.4.bn3.num_batches_tracked', 'backbone.body.layer3.5.conv1.weight', 'backbone.body.layer3.5.bn1.weight', 'backbone.body.layer3.5.bn1.bias', 'backbone.body.layer3.5.bn1.running_mean', 'backbone.body.layer3.5.bn1.running_var', 'backbone.body.layer3.5.bn1.num_batches_tracked', 'backbone.body.layer3.5.conv2.weight', 'backbone.body.layer3.5.bn2.weight', 'backbone.body.layer3.5.bn2.bias', 'backbone.body.layer3.5.bn2.running_mean', 'backbone.body.layer3.5.bn2.running_var', 'backbone.body.layer3.5.bn2.num_batches_tracked', 'backbone.body.layer3.5.conv3.weight', 'backbone.body.layer3.5.bn3.weight', 'backbone.body.layer3.5.bn3.bias', 'backbone.body.layer3.5.bn3.running_mean', 'backbone.body.layer3.5.bn3.running_var', 'backbone.body.layer3.5.bn3.num_batches_tracked', 'backbone.body.layer4.0.conv1.weight', 'backbone.body.layer4.0.bn1.weight', 'backbone.body.layer4.0.bn1.bias', 'backbone.body.layer4.0.bn1.running_mean', 'backbone.body.layer4.0.bn1.running_var', 'backbone.body.layer4.0.bn1.num_batches_tracked', 'backbone.body.layer4.0.conv2.weight', 'backbone.body.layer4.0.bn2.weight', 'backbone.body.layer4.0.bn2.bias', 'backbone.body.layer4.0.bn2.running_mean', 'backbone.body.layer4.0.bn2.running_var', 'backbone.body.layer4.0.bn2.num_batches_tracked', 'backbone.body.layer4.0.conv3.weight', 'backbone.body.layer4.0.bn3.weight', 'backbone.body.layer4.0.bn3.bias', 'backbone.body.layer4.0.bn3.running_mean', 'backbone.body.layer4.0.bn3.running_var', 'backbone.body.layer4.0.bn3.num_batches_tracked', 'backbone.body.layer4.0.downsample.0.weight', 'backbone.body.layer4.0.downsample.1.weight', 'backbone.body.layer4.0.downsample.1.bias', 'backbone.body.layer4.0.downsample.1.running_mean', 'backbone.body.layer4.0.downsample.1.running_var', 'backbone.body.layer4.0.downsample.1.num_batches_tracked', 'backbone.body.layer4.1.conv1.weight', 'backbone.body.layer4.1.bn1.weight', 'backbone.body.layer4.1.bn1.bias', 'backbone.body.layer4.1.bn1.running_mean', 'backbone.body.layer4.1.bn1.running_var', 'backbone.body.layer4.1.bn1.num_batches_tracked', 'backbone.body.layer4.1.conv2.weight', 'backbone.body.layer4.1.bn2.weight', 'backbone.body.layer4.1.bn2.bias', 'backbone.body.layer4.1.bn2.running_mean', 'backbone.body.layer4.1.bn2.running_var', 'backbone.body.layer4.1.bn2.num_batches_tracked', 'backbone.body.layer4.1.conv3.weight', 'backbone.body.layer4.1.bn3.weight', 'backbone.body.layer4.1.bn3.bias', 'backbone.body.layer4.1.bn3.running_mean', 'backbone.body.layer4.1.bn3.running_var', 'backbone.body.layer4.1.bn3.num_batches_tracked', 'backbone.body.layer4.2.conv1.weight', 'backbone.body.layer4.2.bn1.weight', 'backbone.body.layer4.2.bn1.bias', 'backbone.body.layer4.2.bn1.running_mean', 'backbone.body.layer4.2.bn1.running_var', 'backbone.body.layer4.2.bn1.num_batches_tracked', 'backbone.body.layer4.2.conv2.weight', 'backbone.body.layer4.2.bn2.weight', 'backbone.body.layer4.2.bn2.bias', 'backbone.body.layer4.2.bn2.running_mean', 'backbone.body.layer4.2.bn2.running_var', 'backbone.body.layer4.2.bn2.num_batches_tracked', 'backbone.body.layer4.2.conv3.weight', 'backbone.body.layer4.2.bn3.weight', 'backbone.body.layer4.2.bn3.bias', 'backbone.body.layer4.2.bn3.running_mean', 'backbone.body.layer4.2.bn3.running_var', 'backbone.body.layer4.2.bn3.num_batches_tracked', 'backbone.fpn.inner_blocks.0.0.weight', 'backbone.fpn.inner_blocks.0.1.weight', 'backbone.fpn.inner_blocks.0.1.bias', 'backbone.fpn.inner_blocks.0.1.running_mean', 'backbone.fpn.inner_blocks.0.1.running_var', 'backbone.fpn.inner_blocks.0.1.num_batches_tracked', 'backbone.fpn.inner_blocks.1.0.weight', 'backbone.fpn.inner_blocks.1.1.weight', 'backbone.fpn.inner_blocks.1.1.bias', 'backbone.fpn.inner_blocks.1.1.running_mean', 'backbone.fpn.inner_blocks.1.1.running_var', 'backbone.fpn.inner_blocks.1.1.num_batches_tracked', 'backbone.fpn.inner_blocks.2.0.weight', 'backbone.fpn.inner_blocks.2.1.weight', 'backbone.fpn.inner_blocks.2.1.bias', 'backbone.fpn.inner_blocks.2.1.running_mean', 'backbone.fpn.inner_blocks.2.1.running_var', 'backbone.fpn.inner_blocks.2.1.num_batches_tracked', 'backbone.fpn.inner_blocks.3.0.weight', 'backbone.fpn.inner_blocks.3.1.weight', 'backbone.fpn.inner_blocks.3.1.bias', 'backbone.fpn.inner_blocks.3.1.running_mean', 'backbone.fpn.inner_blocks.3.1.running_var', 'backbone.fpn.inner_blocks.3.1.num_batches_tracked', 'backbone.fpn.layer_blocks.0.0.weight', 'backbone.fpn.layer_blocks.0.1.weight', 'backbone.fpn.layer_blocks.0.1.bias', 'backbone.fpn.layer_blocks.0.1.running_mean', 'backbone.fpn.layer_blocks.0.1.running_var', 'backbone.fpn.layer_blocks.0.1.num_batches_tracked', 'backbone.fpn.layer_blocks.1.0.weight', 'backbone.fpn.layer_blocks.1.1.weight', 'backbone.fpn.layer_blocks.1.1.bias', 'backbone.fpn.layer_blocks.1.1.running_mean', 'backbone.fpn.layer_blocks.1.1.running_var', 'backbone.fpn.layer_blocks.1.1.num_batches_tracked', 'backbone.fpn.layer_blocks.2.0.weight', 'backbone.fpn.layer_blocks.2.1.weight', 'backbone.fpn.layer_blocks.2.1.bias', 'backbone.fpn.layer_blocks.2.1.running_mean', 'backbone.fpn.layer_blocks.2.1.running_var', 'backbone.fpn.layer_blocks.2.1.num_batches_tracked', 'backbone.fpn.layer_blocks.3.0.weight', 'backbone.fpn.layer_blocks.3.1.weight', 'backbone.fpn.layer_blocks.3.1.bias', 'backbone.fpn.layer_blocks.3.1.running_mean', 'backbone.fpn.layer_blocks.3.1.running_var', 'backbone.fpn.layer_blocks.3.1.num_batches_tracked', 'rpn.head.conv.0.0.weight', 'rpn.head.conv.0.0.bias', 'rpn.head.conv.1.0.weight', 'rpn.head.conv.1.0.bias', 'rpn.head.cls_logits.weight', 'rpn.head.cls_logits.bias', 'rpn.head.bbox_pred.weight', 'rpn.head.bbox_pred.bias', 'roi_heads.box_head.0.0.weight', 'roi_heads.box_head.0.1.weight', 'roi_heads.box_head.0.1.bias', 'roi_heads.box_head.0.1.running_mean', 'roi_heads.box_head.0.1.running_var', 'roi_heads.box_head.0.1.num_batches_tracked', 'roi_heads.box_head.1.0.weight', 'roi_heads.box_head.1.1.weight', 'roi_heads.box_head.1.1.bias', 'roi_heads.box_head.1.1.running_mean', 'roi_heads.box_head.1.1.running_var', 'roi_heads.box_head.1.1.num_batches_tracked', 'roi_heads.box_head.2.0.weight', 'roi_heads.box_head.2.1.weight', 'roi_heads.box_head.2.1.bias', 'roi_heads.box_head.2.1.running_mean', 'roi_heads.box_head.2.1.running_var', 'roi_heads.box_head.2.1.num_batches_tracked', 'roi_heads.box_head.3.0.weight', 'roi_heads.box_head.3.1.weight', 'roi_heads.box_head.3.1.bias', 'roi_heads.box_head.3.1.running_mean', 'roi_heads.box_head.3.1.running_var', 'roi_heads.box_head.3.1.num_batches_tracked', 'roi_heads.box_head.5.weight', 'roi_heads.box_head.5.bias', 'roi_heads.box_predictor.cls_score.weight', 'roi_heads.box_predictor.cls_score.bias', 'roi_heads.box_predictor.bbox_pred.weight', 'roi_heads.box_predictor.bbox_pred.bias'])"
      ]
     },
     "execution_count": 19,
     "metadata": {},
     "output_type": "execute_result"
    }
   ],
   "source": [
    "trained_state_dict_v2.keys()"
   ]
  },
  {
   "cell_type": "code",
   "execution_count": 23,
   "metadata": {},
   "outputs": [],
   "source": [
    "temp = set(trained_state_dict_v2.keys()) - set(trained_state_dict.keys())"
   ]
  },
  {
   "cell_type": "code",
   "execution_count": 24,
   "metadata": {},
   "outputs": [
    {
     "data": {
      "text/plain": [
       "{'backbone.body.bn1.num_batches_tracked',\n",
       " 'backbone.body.layer1.0.bn1.num_batches_tracked',\n",
       " 'backbone.body.layer1.0.bn2.num_batches_tracked',\n",
       " 'backbone.body.layer1.0.bn3.num_batches_tracked',\n",
       " 'backbone.body.layer1.0.downsample.1.num_batches_tracked',\n",
       " 'backbone.body.layer1.1.bn1.num_batches_tracked',\n",
       " 'backbone.body.layer1.1.bn2.num_batches_tracked',\n",
       " 'backbone.body.layer1.1.bn3.num_batches_tracked',\n",
       " 'backbone.body.layer1.2.bn1.num_batches_tracked',\n",
       " 'backbone.body.layer1.2.bn2.num_batches_tracked',\n",
       " 'backbone.body.layer1.2.bn3.num_batches_tracked',\n",
       " 'backbone.body.layer2.0.bn1.num_batches_tracked',\n",
       " 'backbone.body.layer2.0.bn2.num_batches_tracked',\n",
       " 'backbone.body.layer2.0.bn3.num_batches_tracked',\n",
       " 'backbone.body.layer2.0.downsample.1.num_batches_tracked',\n",
       " 'backbone.body.layer2.1.bn1.num_batches_tracked',\n",
       " 'backbone.body.layer2.1.bn2.num_batches_tracked',\n",
       " 'backbone.body.layer2.1.bn3.num_batches_tracked',\n",
       " 'backbone.body.layer2.2.bn1.num_batches_tracked',\n",
       " 'backbone.body.layer2.2.bn2.num_batches_tracked',\n",
       " 'backbone.body.layer2.2.bn3.num_batches_tracked',\n",
       " 'backbone.body.layer2.3.bn1.num_batches_tracked',\n",
       " 'backbone.body.layer2.3.bn2.num_batches_tracked',\n",
       " 'backbone.body.layer2.3.bn3.num_batches_tracked',\n",
       " 'backbone.body.layer3.0.bn1.num_batches_tracked',\n",
       " 'backbone.body.layer3.0.bn2.num_batches_tracked',\n",
       " 'backbone.body.layer3.0.bn3.num_batches_tracked',\n",
       " 'backbone.body.layer3.0.downsample.1.num_batches_tracked',\n",
       " 'backbone.body.layer3.1.bn1.num_batches_tracked',\n",
       " 'backbone.body.layer3.1.bn2.num_batches_tracked',\n",
       " 'backbone.body.layer3.1.bn3.num_batches_tracked',\n",
       " 'backbone.body.layer3.2.bn1.num_batches_tracked',\n",
       " 'backbone.body.layer3.2.bn2.num_batches_tracked',\n",
       " 'backbone.body.layer3.2.bn3.num_batches_tracked',\n",
       " 'backbone.body.layer3.3.bn1.num_batches_tracked',\n",
       " 'backbone.body.layer3.3.bn2.num_batches_tracked',\n",
       " 'backbone.body.layer3.3.bn3.num_batches_tracked',\n",
       " 'backbone.body.layer3.4.bn1.num_batches_tracked',\n",
       " 'backbone.body.layer3.4.bn2.num_batches_tracked',\n",
       " 'backbone.body.layer3.4.bn3.num_batches_tracked',\n",
       " 'backbone.body.layer3.5.bn1.num_batches_tracked',\n",
       " 'backbone.body.layer3.5.bn2.num_batches_tracked',\n",
       " 'backbone.body.layer3.5.bn3.num_batches_tracked',\n",
       " 'backbone.body.layer4.0.bn1.num_batches_tracked',\n",
       " 'backbone.body.layer4.0.bn2.num_batches_tracked',\n",
       " 'backbone.body.layer4.0.bn3.num_batches_tracked',\n",
       " 'backbone.body.layer4.0.downsample.1.num_batches_tracked',\n",
       " 'backbone.body.layer4.1.bn1.num_batches_tracked',\n",
       " 'backbone.body.layer4.1.bn2.num_batches_tracked',\n",
       " 'backbone.body.layer4.1.bn3.num_batches_tracked',\n",
       " 'backbone.body.layer4.2.bn1.num_batches_tracked',\n",
       " 'backbone.body.layer4.2.bn2.num_batches_tracked',\n",
       " 'backbone.body.layer4.2.bn3.num_batches_tracked',\n",
       " 'backbone.fpn.inner_blocks.0.0.weight',\n",
       " 'backbone.fpn.inner_blocks.0.1.bias',\n",
       " 'backbone.fpn.inner_blocks.0.1.num_batches_tracked',\n",
       " 'backbone.fpn.inner_blocks.0.1.running_mean',\n",
       " 'backbone.fpn.inner_blocks.0.1.running_var',\n",
       " 'backbone.fpn.inner_blocks.0.1.weight',\n",
       " 'backbone.fpn.inner_blocks.1.0.weight',\n",
       " 'backbone.fpn.inner_blocks.1.1.bias',\n",
       " 'backbone.fpn.inner_blocks.1.1.num_batches_tracked',\n",
       " 'backbone.fpn.inner_blocks.1.1.running_mean',\n",
       " 'backbone.fpn.inner_blocks.1.1.running_var',\n",
       " 'backbone.fpn.inner_blocks.1.1.weight',\n",
       " 'backbone.fpn.inner_blocks.2.0.weight',\n",
       " 'backbone.fpn.inner_blocks.2.1.bias',\n",
       " 'backbone.fpn.inner_blocks.2.1.num_batches_tracked',\n",
       " 'backbone.fpn.inner_blocks.2.1.running_mean',\n",
       " 'backbone.fpn.inner_blocks.2.1.running_var',\n",
       " 'backbone.fpn.inner_blocks.2.1.weight',\n",
       " 'backbone.fpn.inner_blocks.3.0.weight',\n",
       " 'backbone.fpn.inner_blocks.3.1.bias',\n",
       " 'backbone.fpn.inner_blocks.3.1.num_batches_tracked',\n",
       " 'backbone.fpn.inner_blocks.3.1.running_mean',\n",
       " 'backbone.fpn.inner_blocks.3.1.running_var',\n",
       " 'backbone.fpn.inner_blocks.3.1.weight',\n",
       " 'backbone.fpn.layer_blocks.0.0.weight',\n",
       " 'backbone.fpn.layer_blocks.0.1.bias',\n",
       " 'backbone.fpn.layer_blocks.0.1.num_batches_tracked',\n",
       " 'backbone.fpn.layer_blocks.0.1.running_mean',\n",
       " 'backbone.fpn.layer_blocks.0.1.running_var',\n",
       " 'backbone.fpn.layer_blocks.0.1.weight',\n",
       " 'backbone.fpn.layer_blocks.1.0.weight',\n",
       " 'backbone.fpn.layer_blocks.1.1.bias',\n",
       " 'backbone.fpn.layer_blocks.1.1.num_batches_tracked',\n",
       " 'backbone.fpn.layer_blocks.1.1.running_mean',\n",
       " 'backbone.fpn.layer_blocks.1.1.running_var',\n",
       " 'backbone.fpn.layer_blocks.1.1.weight',\n",
       " 'backbone.fpn.layer_blocks.2.0.weight',\n",
       " 'backbone.fpn.layer_blocks.2.1.bias',\n",
       " 'backbone.fpn.layer_blocks.2.1.num_batches_tracked',\n",
       " 'backbone.fpn.layer_blocks.2.1.running_mean',\n",
       " 'backbone.fpn.layer_blocks.2.1.running_var',\n",
       " 'backbone.fpn.layer_blocks.2.1.weight',\n",
       " 'backbone.fpn.layer_blocks.3.0.weight',\n",
       " 'backbone.fpn.layer_blocks.3.1.bias',\n",
       " 'backbone.fpn.layer_blocks.3.1.num_batches_tracked',\n",
       " 'backbone.fpn.layer_blocks.3.1.running_mean',\n",
       " 'backbone.fpn.layer_blocks.3.1.running_var',\n",
       " 'backbone.fpn.layer_blocks.3.1.weight',\n",
       " 'roi_heads.box_head.0.0.weight',\n",
       " 'roi_heads.box_head.0.1.bias',\n",
       " 'roi_heads.box_head.0.1.num_batches_tracked',\n",
       " 'roi_heads.box_head.0.1.running_mean',\n",
       " 'roi_heads.box_head.0.1.running_var',\n",
       " 'roi_heads.box_head.0.1.weight',\n",
       " 'roi_heads.box_head.1.0.weight',\n",
       " 'roi_heads.box_head.1.1.bias',\n",
       " 'roi_heads.box_head.1.1.num_batches_tracked',\n",
       " 'roi_heads.box_head.1.1.running_mean',\n",
       " 'roi_heads.box_head.1.1.running_var',\n",
       " 'roi_heads.box_head.1.1.weight',\n",
       " 'roi_heads.box_head.2.0.weight',\n",
       " 'roi_heads.box_head.2.1.bias',\n",
       " 'roi_heads.box_head.2.1.num_batches_tracked',\n",
       " 'roi_heads.box_head.2.1.running_mean',\n",
       " 'roi_heads.box_head.2.1.running_var',\n",
       " 'roi_heads.box_head.2.1.weight',\n",
       " 'roi_heads.box_head.3.0.weight',\n",
       " 'roi_heads.box_head.3.1.bias',\n",
       " 'roi_heads.box_head.3.1.num_batches_tracked',\n",
       " 'roi_heads.box_head.3.1.running_mean',\n",
       " 'roi_heads.box_head.3.1.running_var',\n",
       " 'roi_heads.box_head.3.1.weight',\n",
       " 'roi_heads.box_head.5.bias',\n",
       " 'roi_heads.box_head.5.weight',\n",
       " 'rpn.head.conv.0.0.bias',\n",
       " 'rpn.head.conv.0.0.weight',\n",
       " 'rpn.head.conv.1.0.bias',\n",
       " 'rpn.head.conv.1.0.weight'}"
      ]
     },
     "execution_count": 24,
     "metadata": {},
     "output_type": "execute_result"
    }
   ],
   "source": [
    "temp"
   ]
  },
  {
   "cell_type": "code",
   "execution_count": 22,
   "metadata": {},
   "outputs": [
    {
     "data": {
      "text/plain": [
       "{'backbone.fpn.inner_blocks.0.bias',\n",
       " 'backbone.fpn.inner_blocks.0.weight',\n",
       " 'backbone.fpn.inner_blocks.1.bias',\n",
       " 'backbone.fpn.inner_blocks.1.weight',\n",
       " 'backbone.fpn.inner_blocks.2.bias',\n",
       " 'backbone.fpn.inner_blocks.2.weight',\n",
       " 'backbone.fpn.inner_blocks.3.bias',\n",
       " 'backbone.fpn.inner_blocks.3.weight',\n",
       " 'backbone.fpn.layer_blocks.0.bias',\n",
       " 'backbone.fpn.layer_blocks.0.weight',\n",
       " 'backbone.fpn.layer_blocks.1.bias',\n",
       " 'backbone.fpn.layer_blocks.1.weight',\n",
       " 'backbone.fpn.layer_blocks.2.bias',\n",
       " 'backbone.fpn.layer_blocks.2.weight',\n",
       " 'backbone.fpn.layer_blocks.3.bias',\n",
       " 'backbone.fpn.layer_blocks.3.weight',\n",
       " 'roi_heads.box_head.fc6.bias',\n",
       " 'roi_heads.box_head.fc6.weight',\n",
       " 'roi_heads.box_head.fc7.bias',\n",
       " 'roi_heads.box_head.fc7.weight',\n",
       " 'rpn.head.conv.bias',\n",
       " 'rpn.head.conv.weight'}"
      ]
     },
     "execution_count": 22,
     "metadata": {},
     "output_type": "execute_result"
    }
   ],
   "source": [
    "set(trained_state_dict.keys()) - set(trained_state_dict_v2.keys())"
   ]
  },
  {
   "cell_type": "code",
   "execution_count": null,
   "metadata": {},
   "outputs": [],
   "source": [
    "Skipped loading parameter backbone.body.bn1.num_batches_tracked which is not in the model's state dict.\n",
    "Skipped loading parameter backbone.body.layer1.0.bn1.num_batches_tracked which is not in the model's state dict.\n",
    "Skipped loading parameter backbone.body.layer1.0.bn2.num_batches_tracked which is not in the model's state dict.\n",
    "Skipped loading parameter backbone.body.layer1.0.bn3.num_batches_tracked which is not in the model's state dict.\n",
    "Skipped loading parameter backbone.body.layer1.0.downsample.1.num_batches_tracked which is not in the model's state dict.\n",
    "Skipped loading parameter backbone.body.layer1.1.bn1.num_batches_tracked which is not in the model's state dict.\n",
    "Skipped loading parameter backbone.body.layer1.1.bn2.num_batches_tracked which is not in the model's state dict.\n",
    "Skipped loading parameter backbone.body.layer1.1.bn3.num_batches_tracked which is not in the model's state dict.\n",
    "Skipped loading parameter backbone.body.layer1.2.bn1.num_batches_tracked which is not in the model's state dict.\n",
    "Skipped loading parameter backbone.body.layer1.2.bn2.num_batches_tracked which is not in the model's state dict.\n",
    "Skipped loading parameter backbone.body.layer1.2.bn3.num_batches_tracked which is not in the model's state dict.\n",
    "Skipped loading parameter backbone.body.layer2.0.bn1.num_batches_tracked which is not in the model's state dict.\n",
    "Skipped loading parameter backbone.body.layer2.0.bn2.num_batches_tracked which is not in the model's state dict.\n",
    "Skipped loading parameter backbone.body.layer2.0.bn3.num_batches_tracked which is not in the model's state dict.\n",
    "Skipped loading parameter backbone.body.layer2.0.downsample.1.num_batches_tracked which is not in the model's state dict.\n",
    "Skipped loading parameter backbone.body.layer2.1.bn1.num_batches_tracked which is not in the model's state dict.\n",
    "Skipped loading parameter backbone.body.layer2.1.bn2.num_batches_tracked which is not in the model's state dict.\n",
    "Skipped loading parameter backbone.body.layer2.1.bn3.num_batches_tracked which is not in the model's state dict.\n",
    "Skipped loading parameter backbone.body.layer2.2.bn1.num_batches_tracked which is not in the model's state dict.\n",
    "Skipped loading parameter backbone.body.layer2.2.bn2.num_batches_tracked which is not in the model's state dict.\n",
    "Skipped loading parameter backbone.body.layer2.2.bn3.num_batches_tracked which is not in the model's state dict.\n",
    "Skipped loading parameter backbone.body.layer2.3.bn1.num_batches_tracked which is not in the model's state dict.\n",
    "Skipped loading parameter backbone.body.layer2.3.bn2.num_batches_tracked which is not in the model's state dict.\n",
    "Skipped loading parameter backbone.body.layer2.3.bn3.num_batches_tracked which is not in the model's state dict.\n",
    "Skipped loading parameter backbone.body.layer3.0.bn1.num_batches_tracked which is not in the model's state dict.\n",
    "Skipped loading parameter backbone.body.layer3.0.bn2.num_batches_tracked which is not in the model's state dict.\n",
    "Skipped loading parameter backbone.body.layer3.0.bn3.num_batches_tracked which is not in the model's state dict.\n",
    "Skipped loading parameter backbone.body.layer3.0.downsample.1.num_batches_tracked which is not in the model's state dict.\n",
    "Skipped loading parameter backbone.body.layer3.1.bn1.num_batches_tracked which is not in the model's state dict.\n",
    "Skipped loading parameter backbone.body.layer3.1.bn2.num_batches_tracked which is not in the model's state dict.\n",
    "Skipped loading parameter backbone.body.layer3.1.bn3.num_batches_tracked which is not in the model's state dict.\n",
    "Skipped loading parameter backbone.body.layer3.2.bn1.num_batches_tracked which is not in the model's state dict.\n",
    "Skipped loading parameter backbone.body.layer3.2.bn2.num_batches_tracked which is not in the model's state dict.\n",
    "Skipped loading parameter backbone.body.layer3.2.bn3.num_batches_tracked which is not in the model's state dict.\n",
    "Skipped loading parameter backbone.body.layer3.3.bn1.num_batches_tracked which is not in the model's state dict.\n",
    "Skipped loading parameter backbone.body.layer3.3.bn2.num_batches_tracked which is not in the model's state dict.\n",
    "Skipped loading parameter backbone.body.layer3.3.bn3.num_batches_tracked which is not in the model's state dict.\n",
    "Skipped loading parameter backbone.body.layer3.4.bn1.num_batches_tracked which is not in the model's state dict.\n",
    "Skipped loading parameter backbone.body.layer3.4.bn2.num_batches_tracked which is not in the model's state dict.\n",
    "Skipped loading parameter backbone.body.layer3.4.bn3.num_batches_tracked which is not in the model's state dict.\n",
    "Skipped loading parameter backbone.body.layer3.5.bn1.num_batches_tracked which is not in the model's state dict.\n",
    "Skipped loading parameter backbone.body.layer3.5.bn2.num_batches_tracked which is not in the model's state dict.\n",
    "Skipped loading parameter backbone.body.layer3.5.bn3.num_batches_tracked which is not in the model's state dict.\n",
    "Skipped loading parameter backbone.body.layer4.0.bn1.num_batches_tracked which is not in the model's state dict.\n",
    "Skipped loading parameter backbone.body.layer4.0.bn2.num_batches_tracked which is not in the model's state dict.\n",
    "Skipped loading parameter backbone.body.layer4.0.bn3.num_batches_tracked which is not in the model's state dict.\n",
    "Skipped loading parameter backbone.body.layer4.0.downsample.1.num_batches_tracked which is not in the model's state dict.\n",
    "Skipped loading parameter backbone.body.layer4.1.bn1.num_batches_tracked which is not in the model's state dict.\n",
    "Skipped loading parameter backbone.body.layer4.1.bn2.num_batches_tracked which is not in the model's state dict.\n",
    "Skipped loading parameter backbone.body.layer4.1.bn3.num_batches_tracked which is not in the model's state dict.\n",
    "Skipped loading parameter backbone.body.layer4.2.bn1.num_batches_tracked which is not in the model's state dict.\n",
    "Skipped loading parameter backbone.body.layer4.2.bn2.num_batches_tracked which is not in the model's state dict.\n",
    "Skipped loading parameter backbone.body.layer4.2.bn3.num_batches_tracked which is not in the model's state dict.\n",
    "Skipped loading parameter backbone.fpn.inner_blocks.0.0.weight which is not in the model's state dict.\n",
    "Skipped loading parameter backbone.fpn.inner_blocks.0.1.weight which is not in the model's state dict.\n",
    "Skipped loading parameter backbone.fpn.inner_blocks.0.1.bias which is not in the model's state dict.\n",
    "Skipped loading parameter backbone.fpn.inner_blocks.0.1.running_mean which is not in the model's state dict.\n",
    "Skipped loading parameter backbone.fpn.inner_blocks.0.1.running_var which is not in the model's state dict.\n",
    "Skipped loading parameter backbone.fpn.inner_blocks.1.0.weight which is not in the model's state dict.\n",
    "Skipped loading parameter backbone.fpn.inner_blocks.1.1.weight which is not in the model's state dict.\n",
    "Skipped loading parameter backbone.fpn.inner_blocks.1.1.bias which is not in the model's state dict.\n",
    "Skipped loading parameter backbone.fpn.inner_blocks.1.1.running_mean which is not in the model's state dict.\n",
    "Skipped loading parameter backbone.fpn.inner_blocks.1.1.running_var which is not in the model's state dict.\n",
    "Skipped loading parameter backbone.fpn.inner_blocks.2.0.weight which is not in the model's state dict.\n",
    "Skipped loading parameter backbone.fpn.inner_blocks.2.1.weight which is not in the model's state dict.\n",
    "Skipped loading parameter backbone.fpn.inner_blocks.2.1.bias which is not in the model's state dict.\n",
    "Skipped loading parameter backbone.fpn.inner_blocks.2.1.running_mean which is not in the model's state dict.\n",
    "Skipped loading parameter backbone.fpn.inner_blocks.2.1.running_var which is not in the model's state dict.\n",
    "Skipped loading parameter backbone.fpn.inner_blocks.3.0.weight which is not in the model's state dict.\n",
    "Skipped loading parameter backbone.fpn.inner_blocks.3.1.weight which is not in the model's state dict.\n",
    "Skipped loading parameter backbone.fpn.inner_blocks.3.1.bias which is not in the model's state dict.\n",
    "Skipped loading parameter backbone.fpn.inner_blocks.3.1.running_mean which is not in the model's state dict.\n",
    "Skipped loading parameter backbone.fpn.inner_blocks.3.1.running_var which is not in the model's state dict.\n",
    "Skipped loading parameter backbone.fpn.layer_blocks.0.0.weight which is not in the model's state dict.\n",
    "Skipped loading parameter backbone.fpn.layer_blocks.0.1.weight which is not in the model's state dict.\n",
    "Skipped loading parameter backbone.fpn.layer_blocks.0.1.bias which is not in the model's state dict.\n",
    "Skipped loading parameter backbone.fpn.layer_blocks.0.1.running_mean which is not in the model's state dict.\n",
    "Skipped loading parameter backbone.fpn.layer_blocks.0.1.running_var which is not in the model's state dict.\n",
    "Skipped loading parameter backbone.fpn.layer_blocks.1.0.weight which is not in the model's state dict.\n",
    "Skipped loading parameter backbone.fpn.layer_blocks.1.1.weight which is not in the model's state dict.\n",
    "Skipped loading parameter backbone.fpn.layer_blocks.1.1.bias which is not in the model's state dict.\n",
    "Skipped loading parameter backbone.fpn.layer_blocks.1.1.running_mean which is not in the model's state dict.\n",
    "Skipped loading parameter backbone.fpn.layer_blocks.1.1.running_var which is not in the model's state dict.\n",
    "Skipped loading parameter backbone.fpn.layer_blocks.2.0.weight which is not in the model's state dict.\n",
    "Skipped loading parameter backbone.fpn.layer_blocks.2.1.weight which is not in the model's state dict.\n",
    "Skipped loading parameter backbone.fpn.layer_blocks.2.1.bias which is not in the model's state dict.\n",
    "Skipped loading parameter backbone.fpn.layer_blocks.2.1.running_mean which is not in the model's state dict.\n",
    "Skipped loading parameter backbone.fpn.layer_blocks.2.1.running_var which is not in the model's state dict.\n",
    "Skipped loading parameter backbone.fpn.layer_blocks.3.0.weight which is not in the model's state dict.\n",
    "Skipped loading parameter backbone.fpn.layer_blocks.3.1.weight which is not in the model's state dict.\n",
    "Skipped loading parameter backbone.fpn.layer_blocks.3.1.bias which is not in the model's state dict.\n",
    "Skipped loading parameter backbone.fpn.layer_blocks.3.1.running_mean which is not in the model's state dict.\n",
    "Skipped loading parameter backbone.fpn.layer_blocks.3.1.running_var which is not in the model's state dict.\n",
    "Skipped loading parameter rpn.head.conv.0.0.weight which is not in the model's state dict.\n",
    "Skipped loading parameter rpn.head.conv.0.0.bias which is not in the model's state dict.\n",
    "Skipped loading parameter roi_heads.box_predictor.cls_score.weight due to incompatible shapes: torch.Size([14, 1024]) vs torch.Size([91, 1024])\n",
    "Skipped loading parameter roi_heads.box_predictor.cls_score.bias due to incompatible shapes: torch.Size([14]) vs torch.Size([91])\n",
    "Skipped loading parameter roi_heads.box_predictor.bbox_pred.weight due to incompatible shapes: torch.Size([56, 1024]) vs torch.Size([364, 1024])\n",
    "Skipped loading parameter roi_heads.box_predictor.bbox_pred.bias due to incompatible shapes: torch.Size([56]) vs torch.Size([364])\n",
    "Skipped loading parameter roi_heads.box_predictor.obbox_pred.weight which is not in the model's state dict.\n",
    "Skipped loading parameter roi_heads.box_predictor.obbox_pred.bias which is not in the model's state dict."
   ]
  },
  {
   "cell_type": "code",
   "execution_count": null,
   "metadata": {},
   "outputs": [],
   "source": [
    "Skipped loading parameter roi_heads.box_predictor.cls_score.weight due to incompatible shapes: torch.Size([14, 1024]) vs torch.Size([91, 1024])\n",
    "Skipped loading parameter roi_heads.box_predictor.cls_score.bias due to incompatible shapes: torch.Size([14]) vs torch.Size([91])\n",
    "Skipped loading parameter roi_heads.box_predictor.bbox_pred.weight due to incompatible shapes: torch.Size([56, 1024]) vs torch.Size([364, 1024])\n",
    "Skipped loading parameter roi_heads.box_predictor.bbox_pred.bias due to incompatible shapes: torch.Size([56]) vs torch.Size([364])\n",
    "Skipped loading parameter roi_heads.box_predictor.obbox_pred.weight which is not in the model's state dict.\n",
    "Skipped loading parameter roi_heads.box_predictor.obbox_pred.bias which is not in the model's state dict."
   ]
  }
 ],
 "metadata": {
  "kernelspec": {
   "display_name": "Python 3",
   "language": "python",
   "name": "python3"
  },
  "language_info": {
   "codemirror_mode": {
    "name": "ipython",
    "version": 3
   },
   "file_extension": ".py",
   "mimetype": "text/x-python",
   "name": "python",
   "nbconvert_exporter": "python",
   "pygments_lexer": "ipython3",
   "version": "3.10.12"
  },
  "orig_nbformat": 4
 },
 "nbformat": 4,
 "nbformat_minor": 2
}

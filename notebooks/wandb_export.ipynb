{
 "cells": [
  {
   "cell_type": "code",
   "execution_count": 38,
   "metadata": {},
   "outputs": [
    {
     "name": "stdout",
     "output_type": "stream",
     "text": [
      "rotated-efficientnet_b0-detdemo-256 pre:1_preb:1_freezebn:0_skipflip:0_skipimgtrf:1_trainlayers:4_lr:0.000100\n"
     ]
    }
   ],
   "source": [
    "import pandas as pd\n",
    "import wandb\n",
    "\n",
    "api = wandb.Api()\n",
    "\n",
    "detectors = [\"oriented\", \"rotated\"]\n",
    "backbones = [\"resnet50\", \"resnet18\", \"mobilenetv3large\", \"efficientnet_b0\", \"efficientnet_b1\", \"efficientnet_b2\", \"efficientnet_b3\"]\n",
    "resolutions = [\"256\", \"512\", \"800\"]\n",
    "run_name = 'pre:1_preb:1_freezebn:0_skipflip:0_skipimgtrf:1_trainlayers:4_lr:0.000100'\n",
    "header = [\"detector\", \"backbone\", \"resolution\", \"valid-mAP\", \"valid-mIoU\", \"valid-Precision\", \"valid-Recall\", \"valid-F1-Score\", \"valid-dtheta\"]\n",
    "data = []\n",
    "for detector in detectors:\n",
    "    for backbone in backbones:\n",
    "        for resolution in resolutions:\n",
    "            entity, project = \"crazyboy9103\", f\"{detector}-{backbone}-detdemo-{resolution}\" # \"pre:1_preb:1_freezebn:0_skipflip:0_skipimgtrf:1_trainlayers:4_lr:0.000100\"\n",
    "            runs = api.runs(entity + \"/\" + project)\n",
    "\n",
    "            metrics = [detector, backbone, resolution]\n",
    "\n",
    "            for run in runs:\n",
    "                # .summary contains the output keys/values\n",
    "                #  for metrics such as accuracy.\n",
    "                #  We call ._json_dict to omit large files\n",
    "                if run.name == run_name:\n",
    "                    metric_dict = run.summary._json_dict\n",
    "                    try:\n",
    "                        for metric in header[3:]:\n",
    "                            metrics.append(metric_dict[metric])\n",
    "                    except:\n",
    "                        print(project, run.name)\n",
    "        \n",
    "            data.append(metrics)\n",
    "\n",
    "# Create the DataFrame\n",
    "df = pd.DataFrame(data, columns=header)\n",
    "       \n",
    "\n",
    "\n",
    "# runs_df.to_csv(f\"{project}.csv\", index=False)"
   ]
  },
  {
   "cell_type": "code",
   "execution_count": null,
   "metadata": {},
   "outputs": [],
   "source": []
  },
  {
   "cell_type": "code",
   "execution_count": 113,
   "metadata": {},
   "outputs": [
    {
     "name": "stderr",
     "output_type": "stream",
     "text": [
      "/tmp/ipykernel_2234344/1913393678.py:7: FutureWarning: The behavior of DataFrame concatenation with empty or all-NA entries is deprecated. In a future version, this will no longer exclude empty or all-NA columns when determining the result dtypes. To retain the old behavior, exclude the relevant entries before the concat operation.\n",
      "  temp = pd.concat([temp, t], axis=0)\n"
     ]
    }
   ],
   "source": [
    "temp = pd.DataFrame(columns=[\"detector\", \"backbone\"] + header[3:])\n",
    "for detector in detectors:\n",
    "    for backbone in backbones:\n",
    "        t = df[(df[\"detector\"] == detector) & (df[\"backbone\"] == backbone)][header[3:]].mean().to_frame().T\n",
    "        t[\"detector\"] = detector\n",
    "        t[\"backbone\"] = backbone\n",
    "        temp = pd.concat([temp, t], axis=0)"
   ]
  },
  {
   "cell_type": "code",
   "execution_count": 114,
   "metadata": {},
   "outputs": [],
   "source": [
    "temp.to_excel(\"by_detector_backbone.xlsx\", index=False)"
   ]
  },
  {
   "cell_type": "code",
   "execution_count": 110,
   "metadata": {},
   "outputs": [
    {
     "name": "stderr",
     "output_type": "stream",
     "text": [
      "/tmp/ipykernel_2234344/3675455201.py:7: FutureWarning: The behavior of DataFrame concatenation with empty or all-NA entries is deprecated. In a future version, this will no longer exclude empty or all-NA columns when determining the result dtypes. To retain the old behavior, exclude the relevant entries before the concat operation.\n",
      "  temp = pd.concat([temp, t], axis=0)\n"
     ]
    }
   ],
   "source": [
    "temp = pd.DataFrame(columns=[\"detector\", \"resolution\"] + header[3:])\n",
    "for detector in detectors:\n",
    "    for resolution in resolutions:\n",
    "        t = df[(df[\"detector\"] == detector) & (df[\"resolution\"] == resolution)][header[3:]].mean().to_frame().T\n",
    "        t[\"detector\"] = detector\n",
    "        t[\"resolution\"] = resolution\n",
    "        temp = pd.concat([temp, t], axis=0)"
   ]
  },
  {
   "cell_type": "code",
   "execution_count": 112,
   "metadata": {},
   "outputs": [],
   "source": [
    "temp.to_excel(\"by_detector_resolution.xlsx\", index=False)"
   ]
  },
  {
   "cell_type": "code",
   "execution_count": 105,
   "metadata": {},
   "outputs": [
    {
     "name": "stderr",
     "output_type": "stream",
     "text": [
      "/tmp/ipykernel_2234344/2512922952.py:5: FutureWarning: The behavior of DataFrame concatenation with empty or all-NA entries is deprecated. In a future version, this will no longer exclude empty or all-NA columns when determining the result dtypes. To retain the old behavior, exclude the relevant entries before the concat operation.\n",
      "  temp = pd.concat([temp, t], axis=0)\n"
     ]
    }
   ],
   "source": [
    "temp = pd.DataFrame(columns=[\"backbone\"] + header[3:])\n",
    "for backbone in backbones:\n",
    "    t = df[(df[\"backbone\"] == backbone)][header[3:]].mean().to_frame().T\n",
    "    t[\"backbone\"] = backbone\n",
    "    temp = pd.concat([temp, t], axis=0)"
   ]
  },
  {
   "cell_type": "code",
   "execution_count": 108,
   "metadata": {},
   "outputs": [],
   "source": [
    "temp.to_excel(\"by_backbone.xlsx\", index=False)"
   ]
  },
  {
   "cell_type": "code",
   "execution_count": 92,
   "metadata": {},
   "outputs": [],
   "source": [
    "temp.to_excel(\"average_metrics.xlsx\", index=False)"
   ]
  },
  {
   "cell_type": "code",
   "execution_count": 35,
   "metadata": {},
   "outputs": [],
   "source": [
    "df[df[\"run\"].str.contains('256')].to_excel(\"256.xlsx\", index=False)"
   ]
  },
  {
   "cell_type": "code",
   "execution_count": 36,
   "metadata": {},
   "outputs": [],
   "source": [
    "df[df[\"run\"].str.contains('512')].to_excel(\"512.xlsx\", index=False)"
   ]
  },
  {
   "cell_type": "code",
   "execution_count": 37,
   "metadata": {},
   "outputs": [],
   "source": [
    "df[df[\"run\"].str.contains('800')].to_excel(\"800.xlsx\", index=False)"
   ]
  },
  {
   "cell_type": "code",
   "execution_count": null,
   "metadata": {},
   "outputs": [],
   "source": []
  }
 ],
 "metadata": {
  "kernelspec": {
   "display_name": "Python 3",
   "language": "python",
   "name": "python3"
  },
  "language_info": {
   "codemirror_mode": {
    "name": "ipython",
    "version": 3
   },
   "file_extension": ".py",
   "mimetype": "text/x-python",
   "name": "python",
   "nbconvert_exporter": "python",
   "pygments_lexer": "ipython3",
   "version": "3.10.13"
  }
 },
 "nbformat": 4,
 "nbformat_minor": 2
}

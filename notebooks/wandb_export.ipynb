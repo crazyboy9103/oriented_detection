{
 "cells": [
  {
   "cell_type": "code",
   "execution_count": 1,
   "metadata": {},
   "outputs": [
    {
     "name": "stderr",
     "output_type": "stream",
     "text": [
      "/usr/lib/python3/dist-packages/requests/__init__.py:89: RequestsDependencyWarning: urllib3 (2.0.4) or chardet (3.0.4) doesn't match a supported version!\n",
      "  warnings.warn(\"urllib3 ({}) or chardet ({}) doesn't match a supported \"\n"
     ]
    },
    {
     "name": "stdout",
     "output_type": "stream",
     "text": [
      "rotated-resnet50-mvtec-256 pre:0_preb:1_freezebn:0_skipflip:0_skipimgtrf:1_trainlayers:4_lr:0.000100\n"
     ]
    }
   ],
   "source": [
    "import pandas as pd\n",
    "import wandb\n",
    "\n",
    "api = wandb.Api()\n",
    "\n",
    "detectors = [\"oriented\", \"rotated\"]\n",
    "backbones = [\"resnet50\", \"resnet18\", \"mobilenetv3large\", \"efficientnet_b0\", \"efficientnet_b1\", \"efficientnet_b2\", \"efficientnet_b3\"]\n",
    "resolutions = [\"256\", \"512\", \"800\"]\n",
    "run_name = 'pre:0_preb:1_freezebn:0_skipflip:0_skipimgtrf:1_trainlayers:4_lr:0.000100'\n",
    "header = [\"detector\", \"backbone\", \"resolution\", \"valid-mAP\", \"valid-mIoU\", \"valid-Precision\", \"valid-Recall\", \"valid-F1-Score\", \"valid-dtheta\"]\n",
    "data = []\n",
    "for detector in detectors:\n",
    "    for backbone in backbones:\n",
    "        for resolution in resolutions:\n",
    "            entity, project = \"crazyboy9103\", f\"{detector}-{backbone}-detdemo-{resolution}\" # \"pre:1_preb:1_freezebn:0_skipflip:0_skipimgtrf:1_trainlayers:4_lr:0.000100\"\n",
    "            runs = api.runs(entity + \"/\" + project)\n",
    "\n",
    "            metrics = [detector, backbone, resolution]\n",
    "\n",
    "            for run in runs:\n",
    "                # .summary contains the output keys/values\n",
    "                #  for metrics such as accuracy.\n",
    "                #  We call ._json_dict to omit large files\n",
    "                if run.name == run_name:\n",
    "                    metric_dict = run.summary._json_dict\n",
    "                    try:\n",
    "                        for metric in header[3:]:\n",
    "                            metrics.append(metric_dict[metric])\n",
    "                    except:\n",
    "                        print(project, run.name)\n",
    "        \n",
    "            data.append(metrics)\n",
    "\n",
    "# Create the DataFrame\n",
    "df = pd.DataFrame(data, columns=header)\n",
    "       \n",
    "\n",
    "\n",
    "# runs_df.to_csv(f\"{project}.csv\", index=False)"
   ]
  },
  {
   "cell_type": "code",
   "execution_count": 15,
   "metadata": {},
   "outputs": [
    {
     "data": {
      "text/html": [
       "<div>\n",
       "<style scoped>\n",
       "    .dataframe tbody tr th:only-of-type {\n",
       "        vertical-align: middle;\n",
       "    }\n",
       "\n",
       "    .dataframe tbody tr th {\n",
       "        vertical-align: top;\n",
       "    }\n",
       "\n",
       "    .dataframe thead th {\n",
       "        text-align: right;\n",
       "    }\n",
       "</style>\n",
       "<table border=\"1\" class=\"dataframe\">\n",
       "  <thead>\n",
       "    <tr style=\"text-align: right;\">\n",
       "      <th></th>\n",
       "      <th>detector</th>\n",
       "      <th>backbone</th>\n",
       "      <th>resolution</th>\n",
       "      <th>valid-mAP</th>\n",
       "      <th>valid-mIoU</th>\n",
       "      <th>valid-Precision</th>\n",
       "      <th>valid-Recall</th>\n",
       "      <th>valid-F1-Score</th>\n",
       "      <th>valid-dtheta</th>\n",
       "    </tr>\n",
       "  </thead>\n",
       "  <tbody>\n",
       "    <tr>\n",
       "      <th>2</th>\n",
       "      <td>oriented</td>\n",
       "      <td>resnet50</td>\n",
       "      <td>800</td>\n",
       "      <td>0.992422</td>\n",
       "      <td>0.887696</td>\n",
       "      <td>0.997738</td>\n",
       "      <td>0.985933</td>\n",
       "      <td>0.991674</td>\n",
       "      <td>0.858562</td>\n",
       "    </tr>\n",
       "    <tr>\n",
       "      <th>5</th>\n",
       "      <td>oriented</td>\n",
       "      <td>resnet18</td>\n",
       "      <td>800</td>\n",
       "      <td>0.978770</td>\n",
       "      <td>0.877411</td>\n",
       "      <td>0.987222</td>\n",
       "      <td>0.956774</td>\n",
       "      <td>0.971375</td>\n",
       "      <td>0.864472</td>\n",
       "    </tr>\n",
       "    <tr>\n",
       "      <th>8</th>\n",
       "      <td>oriented</td>\n",
       "      <td>mobilenetv3large</td>\n",
       "      <td>800</td>\n",
       "      <td>0.993974</td>\n",
       "      <td>0.881663</td>\n",
       "      <td>1.000000</td>\n",
       "      <td>0.989771</td>\n",
       "      <td>0.994791</td>\n",
       "      <td>0.871678</td>\n",
       "    </tr>\n",
       "    <tr>\n",
       "      <th>11</th>\n",
       "      <td>oriented</td>\n",
       "      <td>efficientnet_b0</td>\n",
       "      <td>800</td>\n",
       "      <td>0.992337</td>\n",
       "      <td>0.887810</td>\n",
       "      <td>0.997976</td>\n",
       "      <td>0.984213</td>\n",
       "      <td>0.990954</td>\n",
       "      <td>0.865893</td>\n",
       "    </tr>\n",
       "    <tr>\n",
       "      <th>14</th>\n",
       "      <td>oriented</td>\n",
       "      <td>efficientnet_b1</td>\n",
       "      <td>800</td>\n",
       "      <td>0.992028</td>\n",
       "      <td>0.885814</td>\n",
       "      <td>0.998028</td>\n",
       "      <td>0.985575</td>\n",
       "      <td>0.991690</td>\n",
       "      <td>0.867599</td>\n",
       "    </tr>\n",
       "    <tr>\n",
       "      <th>17</th>\n",
       "      <td>oriented</td>\n",
       "      <td>efficientnet_b2</td>\n",
       "      <td>800</td>\n",
       "      <td>0.993849</td>\n",
       "      <td>0.892132</td>\n",
       "      <td>0.993917</td>\n",
       "      <td>0.987906</td>\n",
       "      <td>0.990750</td>\n",
       "      <td>0.870046</td>\n",
       "    </tr>\n",
       "    <tr>\n",
       "      <th>20</th>\n",
       "      <td>oriented</td>\n",
       "      <td>efficientnet_b3</td>\n",
       "      <td>800</td>\n",
       "      <td>0.993629</td>\n",
       "      <td>0.892710</td>\n",
       "      <td>1.000000</td>\n",
       "      <td>0.985601</td>\n",
       "      <td>0.992678</td>\n",
       "      <td>0.871035</td>\n",
       "    </tr>\n",
       "  </tbody>\n",
       "</table>\n",
       "</div>"
      ],
      "text/plain": [
       "    detector          backbone resolution  valid-mAP  valid-mIoU  \\\n",
       "2   oriented          resnet50        800   0.992422    0.887696   \n",
       "5   oriented          resnet18        800   0.978770    0.877411   \n",
       "8   oriented  mobilenetv3large        800   0.993974    0.881663   \n",
       "11  oriented   efficientnet_b0        800   0.992337    0.887810   \n",
       "14  oriented   efficientnet_b1        800   0.992028    0.885814   \n",
       "17  oriented   efficientnet_b2        800   0.993849    0.892132   \n",
       "20  oriented   efficientnet_b3        800   0.993629    0.892710   \n",
       "\n",
       "    valid-Precision  valid-Recall  valid-F1-Score  valid-dtheta  \n",
       "2          0.997738      0.985933        0.991674      0.858562  \n",
       "5          0.987222      0.956774        0.971375      0.864472  \n",
       "8          1.000000      0.989771        0.994791      0.871678  \n",
       "11         0.997976      0.984213        0.990954      0.865893  \n",
       "14         0.998028      0.985575        0.991690      0.867599  \n",
       "17         0.993917      0.987906        0.990750      0.870046  \n",
       "20         1.000000      0.985601        0.992678      0.871035  "
      ]
     },
     "execution_count": 15,
     "metadata": {},
     "output_type": "execute_result"
    }
   ],
   "source": [
    "df[(df[\"detector\"] == \"oriented\") & (df[\"resolution\"] == \"800\")]"
   ]
  },
  {
   "cell_type": "code",
   "execution_count": 113,
   "metadata": {},
   "outputs": [
    {
     "name": "stderr",
     "output_type": "stream",
     "text": [
      "/tmp/ipykernel_2234344/1913393678.py:7: FutureWarning: The behavior of DataFrame concatenation with empty or all-NA entries is deprecated. In a future version, this will no longer exclude empty or all-NA columns when determining the result dtypes. To retain the old behavior, exclude the relevant entries before the concat operation.\n",
      "  temp = pd.concat([temp, t], axis=0)\n"
     ]
    }
   ],
   "source": [
    "temp = pd.DataFrame(columns=[\"detector\", \"backbone\"] + header[3:])\n",
    "for detector in detectors:\n",
    "    for backbone in backbones:\n",
    "        t = df[(df[\"detector\"] == detector) & (df[\"backbone\"] == backbone)][header[3:]].mean().to_frame().T\n",
    "        t[\"detector\"] = detector\n",
    "        t[\"backbone\"] = backbone\n",
    "        temp = pd.concat([temp, t], axis=0)"
   ]
  },
  {
   "cell_type": "code",
   "execution_count": 114,
   "metadata": {},
   "outputs": [],
   "source": [
    "temp.to_excel(\"by_detector_backbone.xlsx\", index=False)"
   ]
  },
  {
   "cell_type": "code",
   "execution_count": 110,
   "metadata": {},
   "outputs": [
    {
     "name": "stderr",
     "output_type": "stream",
     "text": [
      "/tmp/ipykernel_2234344/3675455201.py:7: FutureWarning: The behavior of DataFrame concatenation with empty or all-NA entries is deprecated. In a future version, this will no longer exclude empty or all-NA columns when determining the result dtypes. To retain the old behavior, exclude the relevant entries before the concat operation.\n",
      "  temp = pd.concat([temp, t], axis=0)\n"
     ]
    }
   ],
   "source": [
    "temp = pd.DataFrame(columns=[\"detector\", \"resolution\"] + header[3:])\n",
    "for detector in detectors:\n",
    "    for resolution in resolutions:\n",
    "        t = df[(df[\"detector\"] == detector) & (df[\"resolution\"] == resolution)][header[3:]].mean().to_frame().T\n",
    "        t[\"detector\"] = detector\n",
    "        t[\"resolution\"] = resolution\n",
    "        temp = pd.concat([temp, t], axis=0)"
   ]
  },
  {
   "cell_type": "code",
   "execution_count": 112,
   "metadata": {},
   "outputs": [],
   "source": [
    "temp.to_excel(\"by_detector_resolution.xlsx\", index=False)"
   ]
  },
  {
   "cell_type": "code",
   "execution_count": 105,
   "metadata": {},
   "outputs": [
    {
     "name": "stderr",
     "output_type": "stream",
     "text": [
      "/tmp/ipykernel_2234344/2512922952.py:5: FutureWarning: The behavior of DataFrame concatenation with empty or all-NA entries is deprecated. In a future version, this will no longer exclude empty or all-NA columns when determining the result dtypes. To retain the old behavior, exclude the relevant entries before the concat operation.\n",
      "  temp = pd.concat([temp, t], axis=0)\n"
     ]
    }
   ],
   "source": [
    "temp = pd.DataFrame(columns=[\"backbone\"] + header[3:])\n",
    "for backbone in backbones:\n",
    "    t = df[(df[\"backbone\"] == backbone)][header[3:]].mean().to_frame().T\n",
    "    t[\"backbone\"] = backbone\n",
    "    temp = pd.concat([temp, t], axis=0)"
   ]
  },
  {
   "cell_type": "code",
   "execution_count": 108,
   "metadata": {},
   "outputs": [],
   "source": [
    "temp.to_excel(\"by_backbone.xlsx\", index=False)"
   ]
  },
  {
   "cell_type": "code",
   "execution_count": 92,
   "metadata": {},
   "outputs": [],
   "source": [
    "temp.to_excel(\"average_metrics.xlsx\", index=False)"
   ]
  },
  {
   "cell_type": "code",
   "execution_count": 35,
   "metadata": {},
   "outputs": [],
   "source": [
    "df[df[\"run\"].str.contains('256')].to_excel(\"256.xlsx\", index=False)"
   ]
  },
  {
   "cell_type": "code",
   "execution_count": 36,
   "metadata": {},
   "outputs": [],
   "source": [
    "df[df[\"run\"].str.contains('512')].to_excel(\"512.xlsx\", index=False)"
   ]
  },
  {
   "cell_type": "code",
   "execution_count": 37,
   "metadata": {},
   "outputs": [],
   "source": [
    "df[df[\"run\"].str.contains('800')].to_excel(\"800.xlsx\", index=False)"
   ]
  },
  {
   "cell_type": "code",
   "execution_count": null,
   "metadata": {},
   "outputs": [],
   "source": []
  }
 ],
 "metadata": {
  "kernelspec": {
   "display_name": "Python 3",
   "language": "python",
   "name": "python3"
  },
  "language_info": {
   "codemirror_mode": {
    "name": "ipython",
    "version": 3
   },
   "file_extension": ".py",
   "mimetype": "text/x-python",
   "name": "python",
   "nbconvert_exporter": "python",
   "pygments_lexer": "ipython3",
   "version": "3.10.13"
  }
 },
 "nbformat": 4,
 "nbformat_minor": 2
}

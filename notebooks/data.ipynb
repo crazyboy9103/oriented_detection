{
 "cells": [
  {
   "cell_type": "code",
   "execution_count": 2,
   "metadata": {},
   "outputs": [],
   "source": [
    "import os\n",
    "import json\n",
    "base_path = \"/datasets/mvtec\"\n",
    "\n",
    "train_file = f\"{base_path}/mvtec_screws_train.json\"\n",
    "val_file = f\"{base_path}/mvtec_screws_val.json\"\n",
    "test_file = f\"{base_path}/mvtec_screws_test.json\"\n",
    "category_names = {7:'nut', 3:'wood_screw', 2:'lag_wood_screw', 8:'bolt',\n",
    "                  6:'black_oxide_screw', 5:'shiny_screw', 4:'short_wood_screw',\n",
    "                  1:'long_lag_screw', 9:'large_nut', 11:'nut2', 10:'nut1',\n",
    "                  12:'machine_screw', 13:'short_machine_screw' }\n",
    "\n",
    "import numpy as np\n",
    "\n",
    "def get_xywha_for_write(file):\n",
    "    label_file = json.load(open(file, \"r\"))\n",
    "    \n",
    "    image_name_lines = {}\n",
    "    image_id_names = {}\n",
    "    for img in label_file[\"images\"]:\n",
    "        image_name_lines[img[\"file_name\"]] = []\n",
    "        image_id_names[img[\"id\"]] = img[\"file_name\"]\n",
    "    \n",
    "    for ant in label_file[\"annotations\"]:\n",
    "        category_id = ant[\"category_id\"]\n",
    "        image_id = ant[\"image_id\"]\n",
    "        ant_id = ant[\"id\"]\n",
    "        \n",
    "        # cx, cy가 아닌 cy, cx로 레이블링 되어있음\n",
    "        cy, cx, w, h, a = ant[\"bbox\"]\n",
    "        \n",
    "        # angle은 (-π, π] 라고 했는데, 해당 범위를 넘어가는 데이터가 존재하므로 \n",
    "        # (-π, π] 범위로 재조정\n",
    "        if a < 0:\n",
    "            a += 2 * np.pi\n",
    "        \n",
    "        assert 0 <= a < 2 * np.pi  # Ensure t is in the range [0, 2π)\n",
    "\n",
    "        a = np.rad2deg(a) # degree로 변환\n",
    "        if np.isclose(a, 360, atol=0.5):\n",
    "            a = 0\n",
    "\n",
    "        label = category_names[category_id]\n",
    "        \n",
    "        # (obb) + (label) + (difficulty)\n",
    "        line = \"%d %d %d %d %f %s %d\" % (cx, cy, w, h, a, label, 0)\n",
    "        image_name_lines[image_id_names[image_id]].append(line)\n",
    "    return image_name_lines\n",
    "\n",
    "train_image_name_lines = get_xywha_for_write(train_file)\n",
    "val_image_name_lines = get_xywha_for_write(val_file)\n",
    "test_image_name_lines = get_xywha_for_write(test_file)\n",
    "\n"
   ]
  },
  {
   "cell_type": "code",
   "execution_count": 3,
   "metadata": {},
   "outputs": [],
   "source": [
    "def write_to_labels(image_name_lines):\n",
    "    os.makedirs(f\"{base_path}/annfiles\", exist_ok=True)\n",
    "    for image_name, lines in image_name_lines.items():\n",
    "        txt_path = os.path.join(f\"{base_path}/annfiles\", image_name.rstrip(\".png\")+\".txt\")\n",
    "        with open(txt_path, \"w\") as f:\n",
    "            for line in lines:\n",
    "                f.writelines(line + \"\\n\")\n",
    "write_to_labels(train_image_name_lines)\n",
    "write_to_labels(val_image_name_lines)\n",
    "write_to_labels(test_image_name_lines)   "
   ]
  },
  {
   "cell_type": "code",
   "execution_count": 4,
   "metadata": {},
   "outputs": [],
   "source": [
    "import glob \n",
    "import shutil\n",
    "\n",
    "anns_path = f\"{base_path}/annfiles\"\n",
    "imgs_path = f\"{base_path}/images\"\n",
    "trainval_path = f\"{base_path}/trainval\"\n",
    "test_path = f\"{base_path}/test\"\n",
    "import os\n",
    "trainval_imgs_path = os.path.join(trainval_path, \"images\")\n",
    "trainval_anns_path = os.path.join(trainval_path, \"annfiles\")\n",
    "test_imgs_path = os.path.join(test_path, \"images\")\n",
    "test_anns_path = os.path.join(test_path, \"annfiles\")\n",
    "\n",
    "os.makedirs(trainval_imgs_path, exist_ok=True)\n",
    "os.makedirs(trainval_anns_path, exist_ok=True)\n",
    "os.makedirs(test_imgs_path, exist_ok=True)\n",
    "os.makedirs(test_anns_path, exist_ok=True)\n",
    "\n",
    "txtfiles = glob.glob(f\"{base_path}/annfiles/*.txt\")\n",
    "import random\n",
    "random.shuffle(txtfiles)\n",
    "imgfiles = [txtfile.replace(\"annfiles\", \"images\").replace(\".txt\", \".png\") for txtfile in txtfiles]\n",
    "\n",
    "n = len(txtfiles)\n",
    "n_train = int(n*0.8)"
   ]
  },
  {
   "cell_type": "code",
   "execution_count": 5,
   "metadata": {},
   "outputs": [],
   "source": [
    "train_txtfiles = txtfiles[:n_train]\n",
    "train_imgfiles = imgfiles[:n_train]\n",
    "\n",
    "for train_txtfile, train_imgfile in zip(train_txtfiles, train_imgfiles):\n",
    "    txtfilename = train_txtfile.split(\"/\")[-1]\n",
    "    imgfilename = train_imgfile.split(\"/\")[-1]\n",
    "    shutil.copy(train_txtfile, os.path.join(trainval_anns_path, txtfilename))\n",
    "    shutil.copy(train_imgfile, os.path.join(trainval_imgs_path, imgfilename))\n",
    "    \n",
    "test_txtfiles = txtfiles[n_train:]\n",
    "test_imgfiles = imgfiles[n_train:]\n",
    "\n",
    "for test_txtfile, test_imgfile in zip(test_txtfiles, test_imgfiles):\n",
    "    txtfilename = test_txtfile.split(\"/\")[-1]\n",
    "    imgfilename = test_imgfile.split(\"/\")[-1]\n",
    "    shutil.copy(test_txtfile, os.path.join(test_anns_path, txtfilename))\n",
    "    shutil.copy(test_imgfile, os.path.join(test_imgs_path, imgfilename))"
   ]
  },
  {
   "cell_type": "code",
   "execution_count": 6,
   "metadata": {},
   "outputs": [
    {
     "name": "stdout",
     "output_type": "stream",
     "text": [
      "[DATA] /workspace/datasets/mvtec.pth not found, creating...\n"
     ]
    },
    {
     "name": "stderr",
     "output_type": "stream",
     "text": [
      "Loading annotations: 100%|██████████| 307/307 [00:00<00:00, 3355.38it/s]\n",
      "Loading annotations: 100%|██████████| 77/77 [00:00<00:00, 4146.96it/s]\n"
     ]
    }
   ],
   "source": [
    "import sys\n",
    "sys.path.append(\"..\")\n",
    "from datasets.mvtec import MVTecDataset\n",
    "data = MVTecDataset(\n",
    "    \"/workspace/datasets/mvtec.pth\", \n",
    "    base_path, \n",
    "    split=\"train\"\n",
    ")"
   ]
  },
  {
   "cell_type": "code",
   "execution_count": 14,
   "metadata": {},
   "outputs": [],
   "source": [
    "angles = []\n",
    "for image, target in data:\n",
    "    obox = target['oboxes']\n",
    "    angle = obox[:, -1]\n",
    "    angles.extend(angle.tolist())"
   ]
  },
  {
   "cell_type": "code",
   "execution_count": 15,
   "metadata": {},
   "outputs": [
    {
     "data": {
      "text/plain": [
       "(array([576.,  22.,  17.,  18.,  25.,  26.,  28.,  28.,  23.,  22.,  32.,\n",
       "         22.,  27.,  30.,  35.,  35.,  52.,  48.,  41.,  46.,  47.,  47.,\n",
       "         63.,  48.,  50.,  53.,  50.,  40.,  34.,  49.,  31.,  40.,  33.,\n",
       "         26.,  32.,  30.,  36.,  17.,  17.,  28.,  26.,  28.,  22.,  19.,\n",
       "         16.,  20.,  22.,  15.,  16.,  18.,  24.,  26.,  13.,  22.,  17.,\n",
       "         18.,  31.,  21.,  19.,  16.,  21.,  15.,  15.,  13.,  23.,  15.,\n",
       "         17.,  17.,  13.,  16.,  24.,  16.,  16.,  15.,  24.,  23.,  12.,\n",
       "         15.,  19.,  17.,  14.,  23.,  12.,   8.,   7.,  15.,  14.,   8.,\n",
       "         11.,  23.,  17.,  16.,  10.,  14.,  18.,  21.,  17.,  14.,  24.,\n",
       "        547.]),\n",
       " array([  0.        ,   3.59999756,   7.19999512,  10.79999268,\n",
       "         14.39999023,  17.99998779,  21.59998535,  25.19998291,\n",
       "         28.79998047,  32.39997803,  35.99997559,  39.59997314,\n",
       "         43.1999707 ,  46.79996826,  50.39996582,  53.99996338,\n",
       "         57.59996094,  61.1999585 ,  64.79995605,  68.39995361,\n",
       "         71.99995117,  75.59994873,  79.19994629,  82.79994385,\n",
       "         86.39994141,  89.99993896,  93.59993652,  97.19993408,\n",
       "        100.79993164, 104.3999292 , 107.99992676, 111.59992432,\n",
       "        115.19992188, 118.79991943, 122.39991699, 125.99991455,\n",
       "        129.59991211, 133.19990967, 136.79990723, 140.39990479,\n",
       "        143.99990234, 147.5998999 , 151.19989746, 154.79989502,\n",
       "        158.39989258, 161.99989014, 165.5998877 , 169.19988525,\n",
       "        172.79988281, 176.39988037, 179.99987793, 183.59987549,\n",
       "        187.19987305, 190.79987061, 194.39986816, 197.99986572,\n",
       "        201.59986328, 205.19986084, 208.7998584 , 212.39985596,\n",
       "        215.99985352, 219.59985107, 223.19984863, 226.79984619,\n",
       "        230.39984375, 233.99984131, 237.59983887, 241.19983643,\n",
       "        244.79983398, 248.39983154, 251.9998291 , 255.59982666,\n",
       "        259.19982422, 262.79982178, 266.39981934, 269.99981689,\n",
       "        273.59981445, 277.19981201, 280.79980957, 284.39980713,\n",
       "        287.99980469, 291.59980225, 295.1997998 , 298.79979736,\n",
       "        302.39979492, 305.99979248, 309.59979004, 313.1997876 ,\n",
       "        316.79978516, 320.39978271, 323.99978027, 327.59977783,\n",
       "        331.19977539, 334.79977295, 338.39977051, 341.99976807,\n",
       "        345.59976563, 349.19976318, 352.79976074, 356.3997583 ,\n",
       "        359.99975586]),\n",
       " <BarContainer object of 100 artists>)"
      ]
     },
     "execution_count": 15,
     "metadata": {},
     "output_type": "execute_result"
    },
    {
     "data": {
      "image/png": "[encoded data removed]",
      "text/plain": [
       "<Figure size 640x480 with 1 Axes>"
      ]
     },
     "metadata": {},
     "output_type": "display_data"
    }
   ],
   "source": [
    "import matplotlib.pyplot as plt\n",
    "plt.hist(angles, bins=100)"
   ]
  },
  {
   "cell_type": "code",
   "execution_count": 16,
   "metadata": {},
   "outputs": [],
   "source": [
    "from torchvision.transforms.functional import to_pil_image\n",
    "os.makedirs(\"/datasets/mvtec/rrois/train\", exist_ok=True)\n",
    "for tensor_image, target in data:\n",
    "    oboxes, polys = target[\"oboxes\"], target[\"polygons\"]\n",
    "    image_path = target[\"image_path\"]\n",
    "    image_name = image_path.split(\"/\")[-1].split(\".\")[0]\n",
    "\n",
    "    # use image as feature\n",
    "    feature = {\"0\": tensor_image.unsqueeze(0)}\n",
    "    from ops.poolers import MultiScaleRotatedRoIAlign\n",
    "    rroi_align = MultiScaleRotatedRoIAlign([\"0\"], output_size = 200, sampling_ratio=2, canonical_scale=224, canonical_level=4)\n",
    "    rrois = rroi_align(feature, [oboxes], image_shapes=[[1920, 1440]])\n",
    "    pil_rrois = list(map(to_pil_image, rrois))\n",
    "    for i, (obox, poly, pil_rroi) in enumerate(zip(oboxes, polys, pil_rrois)):\n",
    "        obox_imagename = str(obox.tolist()) + \"_\" + image_name + \".png\"\n",
    "        pil_rroi.save(os.path.join(\"/datasets/mvtec/rrois/train\", obox_imagename))"
   ]
  },
  {
   "cell_type": "code",
   "execution_count": 21,
   "metadata": {},
   "outputs": [
    {
     "data": {
      "text/plain": [
       "(array([10010., 10010., 10010., 10010., 10010., 10010., 10010., 10010.,\n",
       "        10010., 10010., 10010., 10010., 10010., 10010., 10010., 10010.,\n",
       "        10010., 10010., 10010., 10010., 10010., 10010., 10010., 10010.,\n",
       "        10010., 10010., 10010., 10010., 10010., 10010., 10010., 10010.,\n",
       "        10010., 10010., 10010., 10010., 10010., 10010., 10010., 10010.,\n",
       "        10010., 10010., 10010., 10010., 10010., 10010., 10010., 10010.,\n",
       "        10010.,  9009., 10011., 10010., 10010., 10010., 10010., 10010.,\n",
       "        10010., 10010., 10010., 10010., 10010., 10010., 10010., 10010.,\n",
       "        10010., 10010., 10010., 10010., 10010., 10010., 10010., 10010.,\n",
       "        10010., 10010., 10010., 10010., 10010., 10010., 10010., 10010.,\n",
       "        10010., 10010., 10010., 10010., 10010., 10010., 10010., 10010.,\n",
       "        10010., 10010., 10010., 10010., 10010., 10010., 10010., 10010.,\n",
       "        10010., 10010., 10010., 10010.]),\n",
       " array([-179.81981982, -176.22342342, -172.62702703, -169.03063063,\n",
       "        -165.43423423, -161.83783784, -158.24144144, -154.64504505,\n",
       "        -151.04864865, -147.45225225, -143.85585586, -140.25945946,\n",
       "        -136.66306306, -133.06666667, -129.47027027, -125.87387387,\n",
       "        -122.27747748, -118.68108108, -115.08468468, -111.48828829,\n",
       "        -107.89189189, -104.2954955 , -100.6990991 ,  -97.1027027 ,\n",
       "         -93.50630631,  -89.90990991,  -86.31351351,  -82.71711712,\n",
       "         -79.12072072,  -75.52432432,  -71.92792793,  -68.33153153,\n",
       "         -64.73513514,  -61.13873874,  -57.54234234,  -53.94594595,\n",
       "         -50.34954955,  -46.75315315,  -43.15675676,  -39.56036036,\n",
       "         -35.96396396,  -32.36756757,  -28.77117117,  -25.17477477,\n",
       "         -21.57837838,  -17.98198198,  -14.38558559,  -10.78918919,\n",
       "          -7.19279279,   -3.5963964 ,    0.        ,    3.5963964 ,\n",
       "           7.19279279,   10.78918919,   14.38558559,   17.98198198,\n",
       "          21.57837838,   25.17477477,   28.77117117,   32.36756757,\n",
       "          35.96396396,   39.56036036,   43.15675676,   46.75315315,\n",
       "          50.34954955,   53.94594595,   57.54234234,   61.13873874,\n",
       "          64.73513514,   68.33153153,   71.92792793,   75.52432432,\n",
       "          79.12072072,   82.71711712,   86.31351351,   89.90990991,\n",
       "          93.50630631,   97.1027027 ,  100.6990991 ,  104.2954955 ,\n",
       "         107.89189189,  111.48828829,  115.08468468,  118.68108108,\n",
       "         122.27747748,  125.87387387,  129.47027027,  133.06666667,\n",
       "         136.66306306,  140.25945946,  143.85585586,  147.45225225,\n",
       "         151.04864865,  154.64504505,  158.24144144,  161.83783784,\n",
       "         165.43423423,  169.03063063,  172.62702703,  176.22342342,\n",
       "         179.81981982]),\n",
       " <BarContainer object of 100 artists>)"
      ]
     },
     "execution_count": 21,
     "metadata": {},
     "output_type": "execute_result"
    },
    {
     "data": {
      "image/png": "[encoded data removed]",
      "text/plain": [
       "<Figure size 640x480 with 1 Axes>"
      ]
     },
     "metadata": {},
     "output_type": "display_data"
    }
   ],
   "source": [
    "import numpy as np\n",
    "import matplotlib.pyplot as plt\n",
    "phi = np.linspace(0, 360, 1000)\n",
    "phi_star = phi.copy()\n",
    "\n",
    "d_phi = lambda a, b: a-b if np.abs(a-b) < 180 else a-b-360 *np.sign(a-b)\n",
    "data = []\n",
    "\n",
    "for p in phi:\n",
    "    for ps in phi_star:\n",
    "        d = d_phi(p, ps)\n",
    "        data.append(d)\n",
    "plt.hist(data, bins=100)"
   ]
  },
  {
   "cell_type": "code",
   "execution_count": 19,
   "metadata": {},
   "outputs": [],
   "source": [
    "import torch\n",
    "x, y = 0.8, 0.8\n",
    "x /= torch.norm(torch.tensor([x, y]))\n",
    "y /= torch.norm(torch.tensor([x, y]))\n",
    "a = torch.rad2deg(torch.atan2(torch.tensor([x]), torch.tensor([y])))"
   ]
  },
  {
   "cell_type": "code",
   "execution_count": 26,
   "metadata": {},
   "outputs": [
    {
     "data": {
      "image/png": "[encoded data removed]",
      "text/plain": [
       "<Figure size 640x480 with 1 Axes>"
      ]
     },
     "metadata": {},
     "output_type": "display_data"
    },
    {
     "name": "stdout",
     "output_type": "stream",
     "text": [
      "Boxes1 0 vs Boxes2 0: 0.1428571492433548\n",
      "Boxes1 0 vs Boxes2 1: 0.0\n",
      "Boxes1 0 vs Boxes2 2: 0.0\n",
      "Boxes1 1 vs Boxes2 0: 0.0005664207274094224\n",
      "Boxes1 1 vs Boxes2 1: 0.5624999403953552\n",
      "Boxes1 1 vs Boxes2 2: 0.03619065880775452\n",
      "tensor([[0.1429, 0.0000, 0.0000],\n",
      "        [0.0006, 0.5625, 0.0362]])\n"
     ]
    }
   ],
   "source": [
    "# Import necessary modules\n",
    "import numpy as np\n",
    "import torch\n",
    "from detectron2._C import box_iou_rotated\n",
    "# Create test tensors\n",
    "boxes1 = torch.tensor([[1, 1, 2, 2, 0], [4, 4, 3, 3, 225]]).float()\n",
    "boxes2 = torch.tensor([[2, 2, 2, 2, 0], [4, 4, 4, 4, 45], [6, 6, 3, 3, 90]]).float()\n",
    "import matplotlib.pyplot as plt\n",
    "\n",
    "\n",
    "# Plot the boxes\n",
    "fig, ax = plt.subplots()\n",
    "for i, box in enumerate(boxes1):\n",
    "    rect = plt.Rectangle((box[0], box[1]), box[2], box[3], angle=box[4], edgecolor='r', facecolor='none')\n",
    "    ax.add_patch(rect)\n",
    "    # Add arrow to indicate direction\n",
    "    arrow_length = 0.5 * max(box[2], box[3])\n",
    "    arrow_dx = arrow_length * np.cos(np.deg2rad(box[4]))\n",
    "    arrow_dy = arrow_length * np.sin(np.deg2rad(box[4]))\n",
    "    ax.arrow(box[0], box[1], arrow_dx, arrow_dy, color='r', width=0.1)\n",
    "    ax.text(box[0], box[1], f'Box {i}', color='r')\n",
    "    \n",
    "for i, box in enumerate(boxes2):\n",
    "    rect = plt.Rectangle((box[0], box[1]), box[2], box[3], angle=box[4], edgecolor='b', facecolor='none')\n",
    "    ax.add_patch(rect)\n",
    "    # Add arrow to indicate direction\n",
    "    arrow_length = 0.5 * max(box[2], box[3])\n",
    "    arrow_dx = arrow_length * np.cos(np.deg2rad(box[4]))\n",
    "    arrow_dy = arrow_length * np.sin(np.deg2rad(box[4]))\n",
    "    ax.arrow(box[0], box[1], arrow_dx, arrow_dy, color='b', width=0.1)\n",
    "    ax.text(box[0], box[1], f'Box {i}', color='b')\n",
    "# Set plot limits\n",
    "ax.set_xlim(-2, 10)\n",
    "ax.set_ylim(-2, 10)\n",
    "\n",
    "# Show the plot\n",
    "plt.show()\n",
    "\n",
    "# Calculate IoU\n",
    "iou = box_iou_rotated(boxes1, boxes2, False)\n",
    "for i in range(len(iou)):\n",
    "    for j in range(len(iou[i])):\n",
    "        print(f'Boxes1 {i} vs Boxes2 {j}: {iou[i][j]}')\n",
    "\n",
    "# Print the result\n",
    "print(iou)"
   ]
  },
  {
   "cell_type": "code",
   "execution_count": 25,
   "metadata": {},
   "outputs": [
    {
     "name": "stdout",
     "output_type": "stream",
     "text": [
      "[[0.14285714 0.         0.        ]\n",
      " [0.01960784 0.5625     0.05882353]]\n"
     ]
    }
   ],
   "source": [
    "import torch\n",
    "from shapely.geometry import Polygon\n",
    "from shapely.affinity import rotate, translate\n",
    "\n",
    "def rect_to_polygon(rect):\n",
    "    cx, cy, w, h, angle = rect\n",
    "    # Rectangle centered at origin\n",
    "    rect = Polygon([(-w/2, -h/2), (-w/2, h/2), (w/2, h/2), (w/2, -h/2)])\n",
    "    # Rotate and translate the rectangle\n",
    "    rotated = rotate(rect, angle, origin=(0, 0), use_radians=False)\n",
    "    translated = translate(rotate(rotated, angle, 'center'),cx, cy)\n",
    "    return translated\n",
    "\n",
    "def calculate_iou(poly1, poly2):\n",
    "    intersection = poly1.intersection(poly2).area\n",
    "    union = poly1.union(poly2).area\n",
    "    return intersection / union\n",
    "\n",
    "# Convert tensors to numpy arrays\n",
    "boxes1_np = boxes1.numpy()\n",
    "boxes2_np = boxes2.numpy()\n",
    "\n",
    "# Convert numpy arrays to polygons\n",
    "polygons1 = [rect_to_polygon(rect) for rect in boxes1_np]\n",
    "polygons2 = [rect_to_polygon(rect) for rect in boxes2_np]\n",
    "\n",
    "# Calculate IoUs\n",
    "ious = []\n",
    "for i, poly1 in enumerate(polygons1):\n",
    "    t = []\n",
    "    for j, poly2 in enumerate(polygons2):\n",
    "        iou = calculate_iou(poly1, poly2)\n",
    "        t.append(iou)\n",
    "    ious.append(t)\n",
    "\n",
    "# ious now contains the IoU for each pair of rectangles\n",
    "print(np.array(ious))\n"
   ]
  },
  {
   "cell_type": "code",
   "execution_count": null,
   "metadata": {},
   "outputs": [],
   "source": []
  }
 ],
 "metadata": {
  "kernelspec": {
   "display_name": "base",
   "language": "python",
   "name": "python3"
  },
  "language_info": {
   "codemirror_mode": {
    "name": "ipython",
    "version": 3
   },
   "file_extension": ".py",
   "mimetype": "text/x-python",
   "name": "python",
   "nbconvert_exporter": "python",
   "pygments_lexer": "ipython3",
   "version": "3.10.13"
  }
 },
 "nbformat": 4,
 "nbformat_minor": 2
}
